{
  "cells": [
    {
      "cell_type": "markdown",
      "metadata": {
        "id": "Kre9BgKE1Vb2"
      },
      "source": [
        "# Google T5-Small Model Transfer Learning Training on A-100 GPU High RAM (40 GB instance)"
      ]
    },
    {
      "cell_type": "markdown",
      "metadata": {
        "id": "BugCO6uC1bmq"
      },
      "source": [
        "## Finetuning"
      ]
    },
    {
      "cell_type": "code",
      "execution_count": null,
      "metadata": {
        "colab": {
          "base_uri": "https://localhost:8080/"
        },
        "id": "xUFugIWSaCAJ",
        "outputId": "69b6fb8f-9fd9-4829-d6c6-a0499e856b3a"
      },
      "outputs": [
        {
          "name": "stdout",
          "output_type": "stream",
          "text": [
            "Requirement already satisfied: transformers in /usr/local/lib/python3.11/dist-packages (4.49.0)\n",
            "Collecting datasets\n",
            "  Downloading datasets-3.4.1-py3-none-any.whl.metadata (19 kB)\n",
            "Collecting rouge-score\n",
            "  Downloading rouge_score-0.1.2.tar.gz (17 kB)\n",
            "  Preparing metadata (setup.py) ... \u001b[?25l\u001b[?25hdone\n",
            "Requirement already satisfied: nltk in /usr/local/lib/python3.11/dist-packages (3.9.1)\n",
            "Collecting evaluate\n",
            "  Downloading evaluate-0.4.3-py3-none-any.whl.metadata (9.2 kB)\n",
            "Requirement already satisfied: filelock in /usr/local/lib/python3.11/dist-packages (from transformers) (3.18.0)\n",
            "Requirement already satisfied: huggingface-hub<1.0,>=0.26.0 in /usr/local/lib/python3.11/dist-packages (from transformers) (0.29.3)\n",
            "Requirement already satisfied: numpy>=1.17 in /usr/local/lib/python3.11/dist-packages (from transformers) (2.0.2)\n",
            "Requirement already satisfied: packaging>=20.0 in /usr/local/lib/python3.11/dist-packages (from transformers) (24.2)\n",
            "Requirement already satisfied: pyyaml>=5.1 in /usr/local/lib/python3.11/dist-packages (from transformers) (6.0.2)\n",
            "Requirement already satisfied: regex!=2019.12.17 in /usr/local/lib/python3.11/dist-packages (from transformers) (2024.11.6)\n",
            "Requirement already satisfied: requests in /usr/local/lib/python3.11/dist-packages (from transformers) (2.32.3)\n",
            "Requirement already satisfied: tokenizers<0.22,>=0.21 in /usr/local/lib/python3.11/dist-packages (from transformers) (0.21.1)\n",
            "Requirement already satisfied: safetensors>=0.4.1 in /usr/local/lib/python3.11/dist-packages (from transformers) (0.5.3)\n",
            "Requirement already satisfied: tqdm>=4.27 in /usr/local/lib/python3.11/dist-packages (from transformers) (4.67.1)\n",
            "Requirement already satisfied: pyarrow>=15.0.0 in /usr/local/lib/python3.11/dist-packages (from datasets) (18.1.0)\n",
            "Collecting dill<0.3.9,>=0.3.0 (from datasets)\n",
            "  Downloading dill-0.3.8-py3-none-any.whl.metadata (10 kB)\n",
            "Requirement already satisfied: pandas in /usr/local/lib/python3.11/dist-packages (from datasets) (2.2.2)\n",
            "Collecting xxhash (from datasets)\n",
            "  Downloading xxhash-3.5.0-cp311-cp311-manylinux_2_17_x86_64.manylinux2014_x86_64.whl.metadata (12 kB)\n",
            "Collecting multiprocess<0.70.17 (from datasets)\n",
            "  Downloading multiprocess-0.70.16-py311-none-any.whl.metadata (7.2 kB)\n",
            "Collecting fsspec<=2024.12.0,>=2023.1.0 (from fsspec[http]<=2024.12.0,>=2023.1.0->datasets)\n",
            "  Downloading fsspec-2024.12.0-py3-none-any.whl.metadata (11 kB)\n",
            "Requirement already satisfied: aiohttp in /usr/local/lib/python3.11/dist-packages (from datasets) (3.11.14)\n",
            "Requirement already satisfied: absl-py in /usr/local/lib/python3.11/dist-packages (from rouge-score) (1.4.0)\n",
            "Requirement already satisfied: six>=1.14.0 in /usr/local/lib/python3.11/dist-packages (from rouge-score) (1.17.0)\n",
            "Requirement already satisfied: click in /usr/local/lib/python3.11/dist-packages (from nltk) (8.1.8)\n",
            "Requirement already satisfied: joblib in /usr/local/lib/python3.11/dist-packages (from nltk) (1.4.2)\n",
            "Requirement already satisfied: aiohappyeyeballs>=2.3.0 in /usr/local/lib/python3.11/dist-packages (from aiohttp->datasets) (2.6.1)\n",
            "Requirement already satisfied: aiosignal>=1.1.2 in /usr/local/lib/python3.11/dist-packages (from aiohttp->datasets) (1.3.2)\n",
            "Requirement already satisfied: attrs>=17.3.0 in /usr/local/lib/python3.11/dist-packages (from aiohttp->datasets) (25.3.0)\n",
            "Requirement already satisfied: frozenlist>=1.1.1 in /usr/local/lib/python3.11/dist-packages (from aiohttp->datasets) (1.5.0)\n",
            "Requirement already satisfied: multidict<7.0,>=4.5 in /usr/local/lib/python3.11/dist-packages (from aiohttp->datasets) (6.2.0)\n",
            "Requirement already satisfied: propcache>=0.2.0 in /usr/local/lib/python3.11/dist-packages (from aiohttp->datasets) (0.3.0)\n",
            "Requirement already satisfied: yarl<2.0,>=1.17.0 in /usr/local/lib/python3.11/dist-packages (from aiohttp->datasets) (1.18.3)\n",
            "Requirement already satisfied: typing-extensions>=3.7.4.3 in /usr/local/lib/python3.11/dist-packages (from huggingface-hub<1.0,>=0.26.0->transformers) (4.12.2)\n",
            "Requirement already satisfied: charset-normalizer<4,>=2 in /usr/local/lib/python3.11/dist-packages (from requests->transformers) (3.4.1)\n",
            "Requirement already satisfied: idna<4,>=2.5 in /usr/local/lib/python3.11/dist-packages (from requests->transformers) (3.10)\n",
            "Requirement already satisfied: urllib3<3,>=1.21.1 in /usr/local/lib/python3.11/dist-packages (from requests->transformers) (2.3.0)\n",
            "Requirement already satisfied: certifi>=2017.4.17 in /usr/local/lib/python3.11/dist-packages (from requests->transformers) (2025.1.31)\n",
            "Requirement already satisfied: python-dateutil>=2.8.2 in /usr/local/lib/python3.11/dist-packages (from pandas->datasets) (2.8.2)\n",
            "Requirement already satisfied: pytz>=2020.1 in /usr/local/lib/python3.11/dist-packages (from pandas->datasets) (2025.1)\n",
            "Requirement already satisfied: tzdata>=2022.7 in /usr/local/lib/python3.11/dist-packages (from pandas->datasets) (2025.1)\n",
            "Downloading datasets-3.4.1-py3-none-any.whl (487 kB)\n",
            "\u001b[2K   \u001b[90m━━━━━━━━━━━━━━━━━━━━━━━━━━━━━━━━━━━━━━━━\u001b[0m \u001b[32m487.4/487.4 kB\u001b[0m \u001b[31m27.5 MB/s\u001b[0m eta \u001b[36m0:00:00\u001b[0m\n",
            "\u001b[?25hDownloading evaluate-0.4.3-py3-none-any.whl (84 kB)\n",
            "\u001b[2K   \u001b[90m━━━━━━━━━━━━━━━━━━━━━━━━━━━━━━━━━━━━━━━━\u001b[0m \u001b[32m84.0/84.0 kB\u001b[0m \u001b[31m7.4 MB/s\u001b[0m eta \u001b[36m0:00:00\u001b[0m\n",
            "\u001b[?25hDownloading dill-0.3.8-py3-none-any.whl (116 kB)\n",
            "\u001b[2K   \u001b[90m━━━━━━━━━━━━━━━━━━━━━━━━━━━━━━━━━━━━━━━━\u001b[0m \u001b[32m116.3/116.3 kB\u001b[0m \u001b[31m11.6 MB/s\u001b[0m eta \u001b[36m0:00:00\u001b[0m\n",
            "\u001b[?25hDownloading fsspec-2024.12.0-py3-none-any.whl (183 kB)\n",
            "\u001b[2K   \u001b[90m━━━━━━━━━━━━━━━━━━━━━━━━━━━━━━━━━━━━━━━━\u001b[0m \u001b[32m183.9/183.9 kB\u001b[0m \u001b[31m15.6 MB/s\u001b[0m eta \u001b[36m0:00:00\u001b[0m\n",
            "\u001b[?25hDownloading multiprocess-0.70.16-py311-none-any.whl (143 kB)\n",
            "\u001b[2K   \u001b[90m━━━━━━━━━━━━━━━━━━━━━━━━━━━━━━━━━━━━━━━━\u001b[0m \u001b[32m143.5/143.5 kB\u001b[0m \u001b[31m8.6 MB/s\u001b[0m eta \u001b[36m0:00:00\u001b[0m\n",
            "\u001b[?25hDownloading xxhash-3.5.0-cp311-cp311-manylinux_2_17_x86_64.manylinux2014_x86_64.whl (194 kB)\n",
            "\u001b[2K   \u001b[90m━━━━━━━━━━━━━━━━━━━━━━━━━━━━━━━━━━━━━━━━\u001b[0m \u001b[32m194.8/194.8 kB\u001b[0m \u001b[31m14.3 MB/s\u001b[0m eta \u001b[36m0:00:00\u001b[0m\n",
            "\u001b[?25hBuilding wheels for collected packages: rouge-score\n",
            "  Building wheel for rouge-score (setup.py) ... \u001b[?25l\u001b[?25hdone\n",
            "  Created wheel for rouge-score: filename=rouge_score-0.1.2-py3-none-any.whl size=24935 sha256=88f7d5764f21a1c0f31c1cd9780fc87b02a0aafba43bb25a6ea82738618ea98d\n",
            "  Stored in directory: /root/.cache/pip/wheels/1e/19/43/8a442dc83660ca25e163e1bd1f89919284ab0d0c1475475148\n",
            "Successfully built rouge-score\n",
            "Installing collected packages: xxhash, fsspec, dill, rouge-score, multiprocess, datasets, evaluate\n",
            "  Attempting uninstall: fsspec\n",
            "    Found existing installation: fsspec 2025.3.0\n",
            "    Uninstalling fsspec-2025.3.0:\n",
            "      Successfully uninstalled fsspec-2025.3.0\n",
            "\u001b[31mERROR: pip's dependency resolver does not currently take into account all the packages that are installed. This behaviour is the source of the following dependency conflicts.\n",
            "gcsfs 2025.3.0 requires fsspec==2025.3.0, but you have fsspec 2024.12.0 which is incompatible.\n",
            "torch 2.6.0+cu124 requires nvidia-cublas-cu12==12.4.5.8; platform_system == \"Linux\" and platform_machine == \"x86_64\", but you have nvidia-cublas-cu12 12.5.3.2 which is incompatible.\n",
            "torch 2.6.0+cu124 requires nvidia-cuda-cupti-cu12==12.4.127; platform_system == \"Linux\" and platform_machine == \"x86_64\", but you have nvidia-cuda-cupti-cu12 12.5.82 which is incompatible.\n",
            "torch 2.6.0+cu124 requires nvidia-cuda-nvrtc-cu12==12.4.127; platform_system == \"Linux\" and platform_machine == \"x86_64\", but you have nvidia-cuda-nvrtc-cu12 12.5.82 which is incompatible.\n",
            "torch 2.6.0+cu124 requires nvidia-cuda-runtime-cu12==12.4.127; platform_system == \"Linux\" and platform_machine == \"x86_64\", but you have nvidia-cuda-runtime-cu12 12.5.82 which is incompatible.\n",
            "torch 2.6.0+cu124 requires nvidia-cudnn-cu12==9.1.0.70; platform_system == \"Linux\" and platform_machine == \"x86_64\", but you have nvidia-cudnn-cu12 9.3.0.75 which is incompatible.\n",
            "torch 2.6.0+cu124 requires nvidia-cufft-cu12==11.2.1.3; platform_system == \"Linux\" and platform_machine == \"x86_64\", but you have nvidia-cufft-cu12 11.2.3.61 which is incompatible.\n",
            "torch 2.6.0+cu124 requires nvidia-curand-cu12==10.3.5.147; platform_system == \"Linux\" and platform_machine == \"x86_64\", but you have nvidia-curand-cu12 10.3.6.82 which is incompatible.\n",
            "torch 2.6.0+cu124 requires nvidia-cusolver-cu12==11.6.1.9; platform_system == \"Linux\" and platform_machine == \"x86_64\", but you have nvidia-cusolver-cu12 11.6.3.83 which is incompatible.\n",
            "torch 2.6.0+cu124 requires nvidia-cusparse-cu12==12.3.1.170; platform_system == \"Linux\" and platform_machine == \"x86_64\", but you have nvidia-cusparse-cu12 12.5.1.3 which is incompatible.\n",
            "torch 2.6.0+cu124 requires nvidia-nvjitlink-cu12==12.4.127; platform_system == \"Linux\" and platform_machine == \"x86_64\", but you have nvidia-nvjitlink-cu12 12.5.82 which is incompatible.\u001b[0m\u001b[31m\n",
            "\u001b[0mSuccessfully installed datasets-3.4.1 dill-0.3.8 evaluate-0.4.3 fsspec-2024.12.0 multiprocess-0.70.16 rouge-score-0.1.2 xxhash-3.5.0\n"
          ]
        }
      ],
      "source": [
        "!pip install transformers datasets rouge-score nltk evaluate"
      ]
    },
    {
      "cell_type": "code",
      "execution_count": null,
      "metadata": {
        "colab": {
          "base_uri": "https://localhost:8080/",
          "height": 735,
          "referenced_widgets": [
            "4d3dc6dc30a84bc28b540bceb181ecaa",
            "2c3f12848f354c0b87cf4ecdcd9b4de7",
            "5e64093bc20043459973db84befaf51c",
            "35137c1205a0436683bd68cfa46dabb5",
            "2b078368806e4225ad47566d8a0e1eb0",
            "45211f2f8d0a4344b721770562bc82e4",
            "8865894aad50429e9efbd446af8c4def",
            "96ea959cffd14df8bbc21f68628fd37f",
            "d04db3c508ff4d25ae31959742e9d78c",
            "4d05d01d2c184899ac7fc8056eff978d",
            "0d7407520b1046d58d972a24eb3dacd0",
            "f7002f4521a74977932f95b631cdca9c",
            "09129cb53670476fb562376b06a7aca5",
            "17f91d95813f49eab41abfdf1ce2e593",
            "76e2e29dba9d4f9b90b9b2366ed224f9",
            "4f149bf79d4a4214901ef9e7daf1d0a0",
            "e03b0f9b728942feb0abae6810ac7173",
            "711f4ae1cc7749b79193a400582b8311",
            "fb3618530ebc4ee0af23701a47ae91bc",
            "c8da122f3ce240b9921a374b134d7707",
            "da56f8554d0440cc949137631027877c",
            "597bfb22206c49948a836058be78b693",
            "76bdec29a9974149930ca20351a576ad",
            "28115d8e7e83401c8fd4537c9b6819d7",
            "137812a984374f8fb559f14fd91968b1",
            "db914568c2364339a3c575a54e615ce2",
            "900759c4d90d41849ba9974bf0e68add",
            "a507778aed5545af94531e79870c6e61",
            "7ea914f664cd4823830f1b0f2bd16328",
            "328e870ca43a49c8b4ce6541e307a9fc",
            "e1ef91734f234656a6fd882ed8705797",
            "1a9d75663e6f416d8366984f080ab3be",
            "2924a19462ac4be48ff515f6a02d6ecd",
            "484e32baadf8495c9b4410607679799b",
            "609164b0bb40431fb6a71eb1e2880859",
            "2e3231639e4c42b786a6c244166b6109",
            "43e017c146d3457e9326c56173cb529a",
            "a8cca53bc8cd449a8e9e3956e6f59098",
            "9f67b088dae94e4f97ffb3816e9a439c",
            "706c5bba22184a9299d9cfa836ac08e7",
            "0adebc8bd96a45629c7d385bc137660d",
            "c2e0966d4b234077b94a31cad188888b",
            "885dca0cc8be43b58625c48b62067aab",
            "a37a3e5f9fd64648944f8030d1198721",
            "871c7b8e16c546a7bb0f19f854bcca71",
            "fde7d9e98c5f4f88898099a4c1037924",
            "bed4faecd26f468a8d9a3d1c021ec11a",
            "2beff1c39b464ec0bd004d944b5dd613",
            "520d058b4c6a4e33b91939de268384d0",
            "6a1da90abb7743f0babfe4c23a64e12f",
            "49915a4db96147ff99c9ce1419e55631",
            "334245b3d53d47c3ba22a724061c3b19",
            "6c57ef2b3c47490f8d32c7d52a29932e",
            "c89d79569dc34359a0662c18a57b12cf",
            "a7d9d1b3b92d487fa0555206a9fc0c87",
            "364c5e94841a4c05a4e05961e75ee928",
            "c369b08436164d6a922f407a93d21759",
            "ae8cb17030184f9990780456e1eb20ca",
            "942c0a167803463b8aed1908ddfbb2c8",
            "12b68e02ead34816b1ca1bce6cb01902",
            "053bc8b91f2a4da7960ced4811eaa98b",
            "e21d696233f14c4c851ed35ddcc73e49",
            "93ae9f9ba92a4c0180199cc6c75c2b77",
            "0d0e355cc3714f1d83662a5f6bf32c93",
            "8b31e29698f74aa0bc9042b220b47cce",
            "a890746ac52d40cd969dbbaa656212e2",
            "eb5a50fca3644b09a8bf2c7279436aae",
            "9fe9ecb1391348dd9566bd657b503001",
            "91a76b7c38b14b439406ee84412ba52b",
            "9a2801ea15be459395e4731e73d24f72",
            "d073c1caa4084a119033abb0800ebc9d",
            "c1c4ba69211e46828e3bd49932e4d653",
            "b2d18761641544429e79c415eb616f00",
            "c6d82b29051f4a1ba7ba426299cad109",
            "fb1262da70c94220b790a8111bedbb99",
            "d4710ef17efe4697b7200b739d2d0253",
            "33ef096ebfd94bd38e2bdd0e7a462045",
            "41414842098e49adab4868f7fe63f043",
            "629c98e5048e44648110631cba3b8e53",
            "3081112f71154813b43daf702b56b622",
            "3c435e3200ae43ffb0ea0e6cc609fee8",
            "c39523cea99e420480720f6256696062",
            "8a36a9799e354fe58b8ffaa21d17faa4",
            "e83b4e41a8214301933fef12f524a3a0",
            "66596a2b0d2e4143822580e8e074a806",
            "f13cf9cb015d4b27b2edc6f91e28d8bd",
            "0683d52fa7bd44b3be2f804a4d96bb55",
            "ddb5452c04d34019ab8dd75fa8ee85cb",
            "90c4775d01314494adc7c5b478a04409",
            "27fd2633b91c41a38ea2c975eced911a",
            "d2d202fcc89040e6b2002d1272c44586",
            "6e0cc064542c467eb4fc833cfc240ce7",
            "dda3b6f317b344be89bda050a5732d7c",
            "98433e62470042c6a8315f9bb2c85e7b",
            "396649c664d14e16b6b46084f1617c48",
            "cd00f3865aa143d49fe5542f4aba3bd3",
            "7086d58b67fd462fb09669d141997da8",
            "70271a81aeb444ec9789c8dacbc9ebce",
            "b3b5d162d64b43c1bec8351934a72293",
            "9004c9dc82944d2aaa209a913ce1a96e",
            "7c86f6f8cf194f1cac0e6347fb0bab20",
            "5028215e0c5e4211ba68aaaf320c1296",
            "f3691456756c44139991649666796a1e",
            "b34c3a17b6f544eca8bdd86e62bee0b4",
            "9f7a7cc3019a42a1ba6d93635aef4e7d",
            "e158fab6ddbe4daea82780ca2465235a",
            "0c4cbae0c67a48158b6dbb3095c29721",
            "f26d94b3237f4833a04d48bed86feced",
            "f32ea7f8d7584662b930f0063480f769",
            "8919d508397d403fab19a2083e93bc9b",
            "d5c70f5b840945b49ef605cd75f972e5",
            "b819b0a7c02e444a995e632dcf88968d",
            "3f4984b26aa94dcf82e7f5d21eb6454b",
            "4e91485a5155488e82a3747a4fcbd630",
            "26ed7a45e8984c3780ef51abc8ea3eba",
            "a71cd4bcbda443c6bafacecaaaca00a8",
            "0acb9572ceb84efa8de571076df13f02",
            "0c4d5c63c15a4ea698763e0f4eb3ea5b",
            "6f10da5f1f174c669f950dea2c897b2e",
            "849835c659d747288272c9b427e49109",
            "0fafaae41f42458bb28e8de30a57f671",
            "59449ebaa12e499c83d183595def9d59",
            "3341596f05cd4ca591303c62ecb4f3e2",
            "2e1e157067524748afaf47845a0f844d",
            "0c86a9cb11eb4b3daee7582b68c3453f",
            "f1653ee0a83c45fcb73c33d584b7aa1c",
            "9278095a433145d59c86fefa68f55e1e",
            "b6ef58b5b22142bc8e35bded3e7b2dbf",
            "2f31267edef34f0988c53d6269a5f513",
            "528b9d6d335143e899c976bc8ea04b0c",
            "f053bc40a1344671b1643178e301f37b",
            "2cef872abaa64b3ea0a1462710415e1c",
            "663db31dc4b042cca46f911f91f915e1",
            "a1979bdb2ed944bf8b5f2190ba042ec7",
            "e0bb77c53f384dceb23b3073a6a7c33f",
            "9f2cd69412a64e10b692d129952e7ffd",
            "214b1a2bdf384b1daed756a0e6687c0d",
            "7d5e54a32e144ecb9ec8f937f62b4648",
            "866a11e323e94476a39ebe7cf6662013",
            "1a53fd310f8143658a5fc6b953240e68",
            "a7780ad8815f4a28b43ecc729dafc981",
            "3a9c3801aa324f21afcd89d08d8dce2c",
            "ca5ff45d5c194d34837ea76955e09fa4",
            "c9bc155c436c402c99f44ab34568629a",
            "81103ed2d70b48a69bc66b287ce1760d",
            "4c09c3ab4c2e46caba3dd96d05198fd8",
            "d24ca939ce164594b6b14e03cb875394",
            "24dfa00c077b42ad8e2a4fcaad6a7ba8",
            "5e5a6d9ec9ab4d03ac12f3a1ad624380",
            "e2743b6cd50742debdd4f99667e3e896",
            "68dd07e360fb46508dc2a37ba7f495d8",
            "f3a24bae52d8491aaef95dd4b17bc794",
            "11952d20c9854312a3eb53ca7d207ed3",
            "8f6d2f1f0c6445b48d4e04a7508b8d98",
            "e7be983756ed48168ff25d50650913bb",
            "82eb43eb83da45a5973fb79953e7b87a",
            "8d71d8d9f4bc41e0b84e544ddc322998",
            "b664993377df490f90d69dbfc7ba577d",
            "8f8b4daea30a4f6fbdc293ea95896be2",
            "21c28ad94b014cdcbd20e547d2cbcc59",
            "f7cb291046064340b3b6cd91bc898cec",
            "6abb0b544b2440e78f8a14be3e2230d3",
            "1a95a4fa80b145da8790936e19888a68",
            "06942db8314142738447dc080605ab62",
            "6f8c1eaa13764f6b99959b9bdb6cd6b1",
            "89692c1f90e6450abd29b47b13cd1b7e",
            "af6dab2ab18043d881921d769d9ef6dc",
            "5867729fab4a40c09269c6e7cd005776",
            "580741bd72504490bfbf12f861564cde",
            "4d4fef3421f14ecf8df6127096c90fad",
            "a724f7ebc8cd4947999c0ade4dc72b1f",
            "86208c530e5c43438419b3b001aed61f",
            "c08cd65e384d4140bd9024241bacae50",
            "fa382561f91c485b9ff92c70b5961f28",
            "8d9025d050134ec4ac58c218a61380ae",
            "70e3e02cf6b14e2cb41bf7d1f621f680",
            "8826d048decd4d689f9fe6920d254991",
            "2433ddb4f0c34d0f87bbb53d81100cd1",
            "4c6e6353e28b437ba783315de3a970bf",
            "9dfc77b37dbd489b83309ba82c3d355a",
            "8e40d31fd82740858cae64dbfcbde341",
            "7299e26fc1d142e6881cd56246f58b04",
            "31e0351d704945a993a0cb491999d386",
            "1fe5ad990d184ed79df81e2e3e9edf19",
            "e27f787af5464a639a3d83b700d10063",
            "4e80fab3cff34ad08aa9303ba9ed7620",
            "6fa16b4ee5724ac8831348796d708089",
            "2cd27c6b6a1f40f2b05d453ad921592d",
            "65ef08a7d33c430fa0f9ad899a398788",
            "830bafde82b2443cb9f502d170448a51",
            "68cfff43bc3c40bb990a275530e190d1",
            "e19d618033bd40dcb73f184fc5f77799",
            "e7817083dad54cda8b40221daa2fad5d",
            "cddce3c8f2ef43fc9f824ebb5ce9a4bf",
            "77761dc8248744f6885bf3e7b0a3f91f",
            "41d6c92f454247a49281993f67750e88",
            "30fa48af04de4ca693002a2853e7ccd9",
            "bb2e74abbc934dc18f862b0528157f06"
          ]
        },
        "id": "FsS7UOxcYh-s",
        "outputId": "92f344a3-ae08-40a0-ac20-a3c91f8319a1"
      },
      "outputs": [
        {
          "name": "stderr",
          "output_type": "stream",
          "text": [
            "/usr/local/lib/python3.11/dist-packages/huggingface_hub/utils/_auth.py:94: UserWarning: \n",
            "The secret `HF_TOKEN` does not exist in your Colab secrets.\n",
            "To authenticate with the Hugging Face Hub, create a token in your settings tab (https://huggingface.co/settings/tokens), set it as secret in your Google Colab and restart your session.\n",
            "You will be able to reuse this secret in all of your notebooks.\n",
            "Please note that authentication is recommended but still optional to access public models or datasets.\n",
            "  warnings.warn(\n"
          ]
        },
        {
          "data": {
            "application/vnd.jupyter.widget-view+json": {
              "model_id": "4d3dc6dc30a84bc28b540bceb181ecaa",
              "version_major": 2,
              "version_minor": 0
            },
            "text/plain": [
              "README.md:   0%|          | 0.00/3.80k [00:00<?, ?B/s]"
            ]
          },
          "metadata": {},
          "output_type": "display_data"
        },
        {
          "data": {
            "application/vnd.jupyter.widget-view+json": {
              "model_id": "f7002f4521a74977932f95b631cdca9c",
              "version_major": 2,
              "version_minor": 0
            },
            "text/plain": [
              "train-00000-of-00005.parquet:   0%|          | 0.00/210M [00:00<?, ?B/s]"
            ]
          },
          "metadata": {},
          "output_type": "display_data"
        },
        {
          "data": {
            "application/vnd.jupyter.widget-view+json": {
              "model_id": "76bdec29a9974149930ca20351a576ad",
              "version_major": 2,
              "version_minor": 0
            },
            "text/plain": [
              "train-00001-of-00005.parquet:   0%|          | 0.00/208M [00:00<?, ?B/s]"
            ]
          },
          "metadata": {},
          "output_type": "display_data"
        },
        {
          "data": {
            "application/vnd.jupyter.widget-view+json": {
              "model_id": "484e32baadf8495c9b4410607679799b",
              "version_major": 2,
              "version_minor": 0
            },
            "text/plain": [
              "train-00002-of-00005.parquet:   0%|          | 0.00/207M [00:00<?, ?B/s]"
            ]
          },
          "metadata": {},
          "output_type": "display_data"
        },
        {
          "data": {
            "application/vnd.jupyter.widget-view+json": {
              "model_id": "871c7b8e16c546a7bb0f19f854bcca71",
              "version_major": 2,
              "version_minor": 0
            },
            "text/plain": [
              "train-00003-of-00005.parquet:   0%|          | 0.00/211M [00:00<?, ?B/s]"
            ]
          },
          "metadata": {},
          "output_type": "display_data"
        },
        {
          "data": {
            "application/vnd.jupyter.widget-view+json": {
              "model_id": "364c5e94841a4c05a4e05961e75ee928",
              "version_major": 2,
              "version_minor": 0
            },
            "text/plain": [
              "train-00004-of-00005.parquet:   0%|          | 0.00/210M [00:00<?, ?B/s]"
            ]
          },
          "metadata": {},
          "output_type": "display_data"
        },
        {
          "data": {
            "application/vnd.jupyter.widget-view+json": {
              "model_id": "eb5a50fca3644b09a8bf2c7279436aae",
              "version_major": 2,
              "version_minor": 0
            },
            "text/plain": [
              "validation-00000-of-00001.parquet:   0%|          | 0.00/59.0M [00:00<?, ?B/s]"
            ]
          },
          "metadata": {},
          "output_type": "display_data"
        },
        {
          "data": {
            "application/vnd.jupyter.widget-view+json": {
              "model_id": "41414842098e49adab4868f7fe63f043",
              "version_major": 2,
              "version_minor": 0
            },
            "text/plain": [
              "test-00000-of-00001.parquet:   0%|          | 0.00/58.9M [00:00<?, ?B/s]"
            ]
          },
          "metadata": {},
          "output_type": "display_data"
        },
        {
          "data": {
            "application/vnd.jupyter.widget-view+json": {
              "model_id": "90c4775d01314494adc7c5b478a04409",
              "version_major": 2,
              "version_minor": 0
            },
            "text/plain": [
              "Generating train split:   0%|          | 0/119924 [00:00<?, ? examples/s]"
            ]
          },
          "metadata": {},
          "output_type": "display_data"
        },
        {
          "data": {
            "application/vnd.jupyter.widget-view+json": {
              "model_id": "9004c9dc82944d2aaa209a913ce1a96e",
              "version_major": 2,
              "version_minor": 0
            },
            "text/plain": [
              "Generating validation split:   0%|          | 0/6633 [00:00<?, ? examples/s]"
            ]
          },
          "metadata": {},
          "output_type": "display_data"
        },
        {
          "data": {
            "application/vnd.jupyter.widget-view+json": {
              "model_id": "d5c70f5b840945b49ef605cd75f972e5",
              "version_major": 2,
              "version_minor": 0
            },
            "text/plain": [
              "Generating test split:   0%|          | 0/6658 [00:00<?, ? examples/s]"
            ]
          },
          "metadata": {},
          "output_type": "display_data"
        },
        {
          "data": {
            "application/vnd.jupyter.widget-view+json": {
              "model_id": "59449ebaa12e499c83d183595def9d59",
              "version_major": 2,
              "version_minor": 0
            },
            "text/plain": [
              "tokenizer_config.json:   0%|          | 0.00/2.32k [00:00<?, ?B/s]"
            ]
          },
          "metadata": {},
          "output_type": "display_data"
        },
        {
          "data": {
            "application/vnd.jupyter.widget-view+json": {
              "model_id": "663db31dc4b042cca46f911f91f915e1",
              "version_major": 2,
              "version_minor": 0
            },
            "text/plain": [
              "spiece.model:   0%|          | 0.00/792k [00:00<?, ?B/s]"
            ]
          },
          "metadata": {},
          "output_type": "display_data"
        },
        {
          "data": {
            "application/vnd.jupyter.widget-view+json": {
              "model_id": "c9bc155c436c402c99f44ab34568629a",
              "version_major": 2,
              "version_minor": 0
            },
            "text/plain": [
              "special_tokens_map.json:   0%|          | 0.00/2.20k [00:00<?, ?B/s]"
            ]
          },
          "metadata": {},
          "output_type": "display_data"
        },
        {
          "data": {
            "application/vnd.jupyter.widget-view+json": {
              "model_id": "e7be983756ed48168ff25d50650913bb",
              "version_major": 2,
              "version_minor": 0
            },
            "text/plain": [
              "tokenizer.json:   0%|          | 0.00/2.42M [00:00<?, ?B/s]"
            ]
          },
          "metadata": {},
          "output_type": "display_data"
        },
        {
          "name": "stderr",
          "output_type": "stream",
          "text": [
            "You are using the default legacy behaviour of the <class 'transformers.models.t5.tokenization_t5.T5Tokenizer'>. This is expected, and simply means that the `legacy` (previous) behavior will be used so nothing changes for you. If you want to use the new behaviour, set `legacy=False`. This should only be set if you understand what it means, and thoroughly read the reason why this was added as explained in https://github.com/huggingface/transformers/pull/24565\n"
          ]
        },
        {
          "data": {
            "application/vnd.jupyter.widget-view+json": {
              "model_id": "89692c1f90e6450abd29b47b13cd1b7e",
              "version_major": 2,
              "version_minor": 0
            },
            "text/plain": [
              "config.json:   0%|          | 0.00/1.49k [00:00<?, ?B/s]"
            ]
          },
          "metadata": {},
          "output_type": "display_data"
        },
        {
          "data": {
            "application/vnd.jupyter.widget-view+json": {
              "model_id": "8826d048decd4d689f9fe6920d254991",
              "version_major": 2,
              "version_minor": 0
            },
            "text/plain": [
              "model.safetensors:   0%|          | 0.00/242M [00:00<?, ?B/s]"
            ]
          },
          "metadata": {},
          "output_type": "display_data"
        },
        {
          "data": {
            "application/vnd.jupyter.widget-view+json": {
              "model_id": "2cd27c6b6a1f40f2b05d453ad921592d",
              "version_major": 2,
              "version_minor": 0
            },
            "text/plain": [
              "generation_config.json:   0%|          | 0.00/112 [00:00<?, ?B/s]"
            ]
          },
          "metadata": {},
          "output_type": "display_data"
        }
      ],
      "source": [
        "from datasets import load_dataset, DatasetDict\n",
        "from transformers import T5Tokenizer, T5ForConditionalGeneration, Seq2SeqTrainingArguments, Seq2SeqTrainer\n",
        "from rouge_score import rouge_scorer\n",
        "from nltk.translate.bleu_score import sentence_bleu\n",
        "import numpy as np\n",
        "\n",
        "# Load the dataset\n",
        "dataset = load_dataset(\"ccdv/pubmed-summarization\")\n",
        "\n",
        "# Load the pre-trained model and tokenizer\n",
        "model_name = \"Falconsai/text_summarization\"\n",
        "tokenizer = T5Tokenizer.from_pretrained(model_name)\n",
        "model = T5ForConditionalGeneration.from_pretrained(model_name)"
      ]
    },
    {
      "cell_type": "code",
      "execution_count": null,
      "metadata": {
        "colab": {
          "base_uri": "https://localhost:8080/"
        },
        "id": "aCEzFxfWGg0h",
        "outputId": "3b6042c7-f3e4-4679-c24d-dab08b68dc47"
      },
      "outputs": [
        {
          "name": "stdout",
          "output_type": "stream",
          "text": [
            "DatasetDict({\n",
            "    train: Dataset({\n",
            "        features: ['article', 'abstract'],\n",
            "        num_rows: 119924\n",
            "    })\n",
            "    validation: Dataset({\n",
            "        features: ['article', 'abstract'],\n",
            "        num_rows: 6633\n",
            "    })\n",
            "    test: Dataset({\n",
            "        features: ['article', 'abstract'],\n",
            "        num_rows: 6658\n",
            "    })\n",
            "})\n"
          ]
        }
      ],
      "source": [
        "print(dataset)"
      ]
    },
    {
      "cell_type": "code",
      "execution_count": null,
      "metadata": {
        "id": "bD6B1k_ZHKWj"
      },
      "outputs": [],
      "source": [
        "train_samples = 3000  # Number of training samples\n",
        "val_samples = 300    # Number of validation samples\n",
        "test_samples = 300   # Number of test samples"
      ]
    },
    {
      "cell_type": "code",
      "execution_count": null,
      "metadata": {
        "id": "ZXiTcO0BHK_c"
      },
      "outputs": [],
      "source": [
        "# Function to randomly select a specific number of samples\n",
        "def get_subset(dataset_split, num_samples):\n",
        "    # Shuffle the dataset and select the first `num_samples`\n",
        "    shuffled_dataset = dataset_split.shuffle(seed=42)  # Seed for reproducibility\n",
        "    subset = shuffled_dataset.select(range(num_samples))\n",
        "    return subset\n",
        "\n",
        "# Get subsets for train, validation, and test\n",
        "train_subset = get_subset(dataset[\"train\"], train_samples)\n",
        "val_subset = get_subset(dataset[\"validation\"], val_samples)\n",
        "test_subset = get_subset(dataset[\"test\"], test_samples)\n",
        "\n",
        "# Create a new DatasetDict with the subsets\n",
        "dataset = DatasetDict({\n",
        "    \"train\": train_subset,\n",
        "    \"validation\": val_subset,\n",
        "    \"test\": test_subset\n",
        "})"
      ]
    },
    {
      "cell_type": "code",
      "execution_count": null,
      "metadata": {
        "colab": {
          "base_uri": "https://localhost:8080/",
          "height": 168,
          "referenced_widgets": [
            "59a16ce84890469c8cf844d402cd25e6",
            "4cf25c3037f94cf29966d65412ecddae",
            "576c1e4e58d64729a0848ba4026a3b2a",
            "9f09b0d0463946f4842a3f6367bf0f9b",
            "0904fb125bf44fb59a8267cc680aee1e",
            "61bf164747784fee8e347bdbf3d52393",
            "1ffaf539b59b424699fd8cd4ecd587e4",
            "a27f1d28b6004c98b48e9ce075633e9b",
            "3920a98b0f224b6489ec91662607616e",
            "732e151b5ceb4bc8bb4f03e3e0e7167a",
            "d60397a44a314c41a653537496878a3e",
            "821f41d0c7014befb3c1d0241a9ed520",
            "c782b9f23ab94abc97fb93b8f1ecceb1",
            "871bc0535ec94ff7838ae6a63182aa15",
            "63b92025d6884a23ab0164342f57f14d",
            "df4f6d0493c94a3fa24d10067b468540",
            "2b2be96ddc71401eb7327b438eceb5b0",
            "6b9375479d754708877b39b00b11fe6a",
            "53dbe3695b104bb2ad3610c05d3b7360",
            "ce05cf8847634cd395a3b4f553fab091",
            "d6de548073004fddb0f43f6d17750ff2",
            "a356a6b1d2b64e94bc1b4fb7126ccc7b",
            "3c00d80da950437d818a0d7c980dd51f",
            "42a08c2f1176468c929558fc1bde6cb7",
            "ca8eabffc9a9411888c794a9adf21355",
            "2570af3236534602a449455839ceb8fc",
            "45c8c82b521c455bbac2e58d80b0a2b9",
            "48ea56d8178644d4a458a0f8175d430c",
            "b1ad98885b8141fba4be8b80ca4e6728",
            "8e0d79be0a904a0e969a47f81b6a23c1",
            "15485407d23d4a5295690546d2192755",
            "7ef2f1fc91ec4d17991ed9b7c40622ac",
            "d5b0a7f34e4249089917406e788972b0"
          ]
        },
        "id": "vnfxLkE-a0EQ",
        "outputId": "29724826-34aa-4160-eb14-3d8d3736a43e"
      },
      "outputs": [
        {
          "data": {
            "application/vnd.jupyter.widget-view+json": {
              "model_id": "59a16ce84890469c8cf844d402cd25e6",
              "version_major": 2,
              "version_minor": 0
            },
            "text/plain": [
              "Map:   0%|          | 0/3000 [00:00<?, ? examples/s]"
            ]
          },
          "metadata": {},
          "output_type": "display_data"
        },
        {
          "name": "stderr",
          "output_type": "stream",
          "text": [
            "/usr/local/lib/python3.11/dist-packages/transformers/tokenization_utils_base.py:3970: UserWarning: `as_target_tokenizer` is deprecated and will be removed in v5 of Transformers. You can tokenize your labels by using the argument `text_target` of the regular `__call__` method (either in the same call as your input texts if you use the same keyword arguments, or in a separate call.\n",
            "  warnings.warn(\n"
          ]
        },
        {
          "data": {
            "application/vnd.jupyter.widget-view+json": {
              "model_id": "821f41d0c7014befb3c1d0241a9ed520",
              "version_major": 2,
              "version_minor": 0
            },
            "text/plain": [
              "Map:   0%|          | 0/300 [00:00<?, ? examples/s]"
            ]
          },
          "metadata": {},
          "output_type": "display_data"
        },
        {
          "data": {
            "application/vnd.jupyter.widget-view+json": {
              "model_id": "3c00d80da950437d818a0d7c980dd51f",
              "version_major": 2,
              "version_minor": 0
            },
            "text/plain": [
              "Map:   0%|          | 0/300 [00:00<?, ? examples/s]"
            ]
          },
          "metadata": {},
          "output_type": "display_data"
        }
      ],
      "source": [
        "def preprocess_data(examples):\n",
        "    # Tokenize inputs with padding and truncation\n",
        "    inputs = [\"summarize: \" + doc for doc in examples[\"article\"]]\n",
        "    model_inputs = tokenizer(\n",
        "        inputs,\n",
        "        max_length=5096,  # Maximum length for input sequences\n",
        "        truncation=True,  # Truncate sequences longer than max_length\n",
        "        padding=\"max_length\",  # Pad sequences to max_length\n",
        "    )\n",
        "\n",
        "    # Tokenize labels with padding and truncation\n",
        "    with tokenizer.as_target_tokenizer():\n",
        "        labels = tokenizer(\n",
        "            examples[\"abstract\"],\n",
        "            max_length=512,  # Maximum length for label sequences\n",
        "            truncation=True,  # Truncate sequences longer than max_length\n",
        "            padding=\"max_length\",  # Pad sequences to max_length\n",
        "        )\n",
        "\n",
        "    model_inputs[\"labels\"] = labels[\"input_ids\"]\n",
        "    return model_inputs\n",
        "\n",
        "# Apply the preprocessing to the dataset\n",
        "tokenized_datasets = dataset.map(preprocess_data, batched=True)"
      ]
    },
    {
      "cell_type": "code",
      "execution_count": null,
      "metadata": {
        "colab": {
          "base_uri": "https://localhost:8080/"
        },
        "id": "MbFEqmuoLR2V",
        "outputId": "5873a502-de48-43f9-c77e-793719fc3538"
      },
      "outputs": [
        {
          "name": "stderr",
          "output_type": "stream",
          "text": [
            "/usr/local/lib/python3.11/dist-packages/transformers/training_args.py:1594: FutureWarning: `evaluation_strategy` is deprecated and will be removed in version 4.46 of 🤗 Transformers. Use `eval_strategy` instead\n",
            "  warnings.warn(\n"
          ]
        }
      ],
      "source": [
        "training_args = Seq2SeqTrainingArguments(\n",
        "    output_dir=\"./results\",\n",
        "    evaluation_strategy=\"epoch\",\n",
        "    learning_rate=2e-5,\n",
        "    per_device_train_batch_size=2,\n",
        "    per_device_eval_batch_size=2,\n",
        "    weight_decay=0.01,\n",
        "    save_total_limit=2,\n",
        "    num_train_epochs=10,\n",
        "    predict_with_generate=True,\n",
        "    fp16=True,\n",
        ")"
      ]
    },
    {
      "cell_type": "code",
      "execution_count": null,
      "metadata": {
        "id": "RZgl2cOoF20h"
      },
      "outputs": [],
      "source": [
        "import numpy as np\n",
        "from nltk.translate.bleu_score import sentence_bleu\n",
        "\n",
        "def compute_metrics(eval_pred):\n",
        "    predictions, labels = eval_pred\n",
        "    decoded_preds = tokenizer.batch_decode(predictions, skip_special_tokens=True)\n",
        "    decoded_labels = tokenizer.batch_decode(labels, skip_special_tokens=True)\n",
        "\n",
        "    rouge_scores = {\n",
        "        'rouge1': [],\n",
        "        'rouge2': [],\n",
        "        'rougeL': []\n",
        "    }\n",
        "    for pred, label in zip(decoded_preds, decoded_labels):\n",
        "        scores = scorer.score(label, pred)\n",
        "        rouge_scores['rouge1'].append(scores['rouge1'].fmeasure)\n",
        "        rouge_scores['rouge2'].append(scores['rouge2'].fmeasure)\n",
        "        rouge_scores['rougeL'].append(scores['rougeL'].fmeasure)\n",
        "\n",
        "    bleu_scores = []\n",
        "    for pred, label in zip(decoded_preds, decoded_labels):\n",
        "        bleu_scores.append(sentence_bleu([label.split()], pred.split()))\n",
        "\n",
        "    return {\n",
        "        'pred':decoded_preds\n",
        "    }"
      ]
    },
    {
      "cell_type": "code",
      "execution_count": null,
      "metadata": {
        "colab": {
          "base_uri": "https://localhost:8080/",
          "height": 1000
        },
        "id": "SJfrw_F6YuoG",
        "outputId": "c73b311e-32d9-4317-8abf-0c3027ddae20"
      },
      "outputs": [
        {
          "name": "stderr",
          "output_type": "stream",
          "text": [
            "<ipython-input-11-caf68606dd06>:1: FutureWarning: `tokenizer` is deprecated and will be removed in version 5.0.0 for `Seq2SeqTrainer.__init__`. Use `processing_class` instead.\n",
            "  trainer = Seq2SeqTrainer(\n"
          ]
        },
        {
          "data": {
            "text/html": [
              "\n",
              "    <div>\n",
              "      \n",
              "      <progress value='15000' max='15000' style='width:300px; height:20px; vertical-align: middle;'></progress>\n",
              "      [15000/15000 2:28:24, Epoch 10/10]\n",
              "    </div>\n",
              "    <table border=\"1\" class=\"dataframe\">\n",
              "  <thead>\n",
              " <tr style=\"text-align: left;\">\n",
              "      <th>Epoch</th>\n",
              "      <th>Training Loss</th>\n",
              "      <th>Validation Loss</th>\n",
              "      <th>Pred</th>\n",
              "    </tr>\n",
              "  </thead>\n",
              "  <tbody>\n",
              "    <tr>\n",
              "      <td>1</td>\n",
              "      <td>1.508900</td>\n",
              "      <td>1.291652</td>\n",
              "      <td>['', 'the prevalence of obesity in early childhood has shown some signs of decreasing ; however, for the', '', '', '', 'the sensitivity of fluorescence - based bioassays is greatly improved with', 'the morphology of the nanofibrous nonwoven materials makes them suitable for wound dressings', 'owing to demographic aging, dementia has been identified as a major economic and societal', 'the pathogenesis of copd is usually progressive and associated with an abnormal inflammatory response in the', 'the ephrin system may play a central role in the cell communication -', '', '', 'the number of s. granulatus fruiting bodies was 56 in 2013 and 60', 'odontoblasts produce the dentin matrix and are responsible for the synthesis of', '', 'the number of cases positive for a single viral marker ( hbsag )', '', 'a new microarray - genotyping platform called whole genome sampling amplification (', '', '', 'ac - a(2535)-nh2 is an amphipath', 'elisa kits for the determination of insulin were purchased from perkin - e', '', '', 'the ion currents of a type i cell were simulated with original hod', '', '', 'a thrombosed avf was accessed by a brachial', '', '', '', 'the japanese health care system allows patients free access to any clinic irrespective of specialty', '', 'the attitude scale of using tobacco which is used in this survey was first established by awaisu', '', 'the cocrystals are a crystalline material comprised of at least two different components', '', '', 'gender has been determined from pelvis, skull, and long bones, with assessment of', 'cnas are variations in the genome that result in either gain or loss of one or', '', '', 'emergence of the a / h1n109 influenza virus resulted in the', '', '', 'the national council of ageing and older people study undertaken in 2005 in the republic of irel', '', 'a systme de gestion de linformation en anesthsie', '', '', '', '', 'the challenge of treating diabetes in this section of population is to avoid hypoglycemia.', '', '', 'the anterior cervical microforaminotomy ( acmf ) technique involves not', '', '', 'theta amplitude of theta amplitudes is consistent with the primary membrane', '', 'adenocarcinoma is the most common form of nsclc', '', 'multiple sclerosis ( ms ) is one of the most frequent diseases of the central', 'dry eye is a multifactorial disorder of the ocular surface characterized by symptoms of', 'a sample size of minimum 32 patients / group was expected to have an 80% power to', 'linagliptin is a potent inhibitor of the serine protease', '', '', '', 'the end goal of periodontal therapy is the regeneration of periodontal tissues that have been destroyed', '', '', '', '', 'i proposes a new approach to the history of forensic medicine, emphasising travelling', '', 'the xrf release rate is a standardized method for assessing the release rate of', '', '', '', '', '', '', '', '', 'the corresponding two z - values were compared between the measurements ( patient acute v', '', '', '', '', 'mv is a highly contagious acute viral disease characterized by high fever,', '', 'escrt - iii and escrt - ii', 'meta - analyses of epidemiological surveys have reported that myopia is a risk factor for', '', '', 'the emergence of secondary - structure elements constitutes an early event in the chronology of folding', '', '', 'the raas is a circulating hormonal system, which promotes diabetes', '', '', 'ruthenium compounds belong to the most promising candidates of non - platinum containing metal complex', '', '', '', 'the e. coli clones were analyzed by a api 20e system', 'adenoviral vectors ( adenoviral vectors ) were the first', '', '', '', 'dilated cardiomyopathy ( dcm ) is the second most prevalent form', 'the escherichia coli groe chaperonin system facilitates protein', '', 'transcripts of mage 1 - 6 genes were detected in 24 ( 82.8%', '', '', '', 'sfks are a unique group of enzymes that have diverse functions in cell proliferation', 'the study was conducted using qualitative content analysis. the results of the study clarify the caring self', '', 'longitudinal follow - up began recently, so the present results are based on baseline data only', '', '', '', '', '', 'enhancing the binding potency of carbohydrate inhibitors of protein carbohydrate interactions is an', '', '', '', '', '', 'we consider the case of intercrosses among pairs of taxa, in place of locations', '', '', '', '', 'ovcf is a systemic disease characterized by low bone mass, bone', 'cross - linking gd1b derived gangliosides are sia', 'the effect of collapsing the high - end categories of a comor', 'ssa / ps ( ssa / ps', '', '', '', 'apoptosis is a distinct form of cell death characterized by a series', '', '', '', '', 'chemoprevention utilizes appropriate pharmacological agents, consumed in diverse forms like', 'fabry disease ( fd ) is an x - linked recess', '', '', \"the screening india's twin epidemic study was conducted in eight states maharashtra,\", 'the cytotoxicity and antibacterial efficacy of root - end filling materials were assessed', '', '', '', '', '', '', '', '', '', '', '', 'forest walking is carried out at a slower and self - regulated pace, meaning that', 'hdacis are effective drugs in the treatment of a variety of cancers,', '', '', '', '', 'the generation of global enh, global cypher, cy', 'apoptosis induction in osteosarcoma cells was examined by fluor', '', '', '', '', 'the pulmonary hyperinflation ( dh ) which induces the so -', '', '', 'microwave imaging has recently emerged as one of the most promising non - invasive imaging modalities', '', 'the horse was daily exercised in an outdoor rotary exerciser ( kondi - trainer', '', 'a prospective study of 262 women with advanced eoc cancer showed that patients treated with', '', '', 'acinetobacter baumannii is a glucose non - fermentative gram', 'a medullary population of basophils with few granules,', 'a meta - analysis of all mice studies excluding the ilsxiss strains', 'the 5-year disease - free survival ( dfs ) has improved in recent years', '', '', 'schizophrenia participants completed an online, structured daily - diary questionnaire of mood and symptoms every evening for', 'vascular endothelial cells ( ecs ) form the inner lining', '', '', '', 'the mortality curve in hemophiliacs over the years has a biphasic', 'the biosynthesis of marineosins ( 14 ) and marineosins (', '', 'the pulmonary toxicity of airborne nanomaterials involves exposing animals to nanomaterials by', 'dcs mediated therapies targeted to human cancer cells are promising candidates for antigens against', '', 'nocturia is a prevalent condition of waking to void during the night that is', '', '', 'problem - based learning ( pbl ) has its roots in medical education programs', 'a retrospective analysis of prostate cancer patient data collected between 2006 and 2010 from a tert', '', '', 'the fluorescence lifetimes are monoexponential, and the fluorescence lifetime distribution', '', '', '', '', '', '', '', 'adnexa refer to the anatomical area adjacent to the uterus', 'chronic constrictive injury ( cci ) has been the common neuropathic pain model', '', '', '', 'the mis - alif technique was developed for minimizing abdominal soft tissue and internal organ injury', '', '', '', '', 'cultivated conjunctival epithelial cells were transplanted to the defecte', 'acculturation was associated with meal frequency, snacking, and eating -', '', '', 'peptide synthesis was obtained from novabiochem or irisbiotech.', '', 'the bm is a basement membrane ( bm ) disease characterized by', '', '', 'migraine is a disabling neurological condition that is commonly observed to occur in an episodic manner', '', '', 'autism spectrum disorders ( asd ) are a complex group of severe neurodevelopmental disorders that', \"parkinson's disease ( pd ) is a neurodegenerative disorder\", '', '', '', '', '', '', '', '', '', '', '', 'the results of the study were based on the standardized lower extremity functional scale ( lef', '', '', '', '', \"the aim of this study was to investigate the relatives'satisfaction and involvement on a general surgery\", '', '', '', '', '', '', 'the results of a retrospective study of 70 women who underwent laparoscopic supracervical', '', 'a splicing variant is a highly regulated process, the outcome of which', 'participants were recruited via advertisements approved by the institutional review board ( irb ),', '', '', '', '', 'recruitment, which began in january 1999 and ended in may 2001, took place', '', '', 'the study protocol was approved by the observational research protocol evaluation committee of the french language society of', '', '', '', '', '', '', '', 'a prospective clinical trial has identified a similar relationship between the location of the implant /', '', 'dna topoisomerases ( topii ) are enzy', '', '', '', '', '', 'the development of personalised medicines is of particular interest for children. the aim of the network is', 'the ll diet used in this study is administered in the form of soups, shakes', '', \"sperm's membrane polyunsaturated fatty acids have a critical role\", '']</td>\n",
              "    </tr>\n",
              "    <tr>\n",
              "      <td>2</td>\n",
              "      <td>1.408400</td>\n",
              "      <td>1.258028</td>\n",
              "      <td>['', 'the prevalence of obesity in early childhood has shown some signs of decreasing ; however, for the', '', '', '', 'the sensitivity of fluorescence - based bioassays is greatly improved with', 'the morphology of nanofibrous nonwoven materials makes them suitable for wound dressings.', 'owing to demographic aging, dementia has been identified as a major economic and societal', 'chronic obstructive pulmonary disease ( copd ) is one of the most prevalent', 'the effects of exogenous administration of neurotrophic molecules on neurorestoration of lesion', '', '', 's. granulatus, which belongs to the family of boletacea', 'odontoblasts produce the dentin matrix and are responsible for the synthesis of', '', 'the number of cases positive for a single viral marker ( hbsag )', '', 'substantial progress has been made using genetic markers to elucidate the evolutionary histories of populations,', '', '', 'the ac - a(2535)-nh2 peptide is', 'elisa kits for the determination of insulin were purchased from alpco diagnostics', '', '', 'the auditory brainstem responses ( abr ) are known as the auditory brains', '', '', 'a thrombosed avf was performed in 17 thrombosed fis', '', '', '', 'the objective of this study was to describe treatment patterns and estimate health care resource utilization and costs among ja', '', 'the attitude scale of using tobacco which is used in this survey was first established by awaisu', '', 'the cocrystals are a crystalline material comprised of at least two different components', '', '', 'gender has been determined from pelvis, skull, and long bones, with assessment of', 'the genome mappability was the first issue we aimed to address in this paper. we', '', '', 'emergence of the a / h1n109 influenza virus resulted in the', '', '', 'the national council of ageing and older people study undertaken in 2005 in the republic of irel', '', 'a t complte de gestion de linformation en anesthsie', '', '', '', '', 'canagliflozin is the first oral inhibitor of sodium / glucose cotransporter', '', '', 'the anterior cervical microforaminotomy ( acmf ) technique involves not', '', '', 'the presence and importance of theta oscillations in grid cells is therefore currently controversial and requires', '', 'adenocarcinoma is the most common cause of cancer mortality world - wide', '', 'multiple sclerosis ( ms ) is one of the most frequent diseases of the central', 'dry eye is a multifactorial disorder of the ocular surface characterized by symptoms of', 'a resurgence in the research of 2 agonists for sedation developed after', 'linagliptin is a potent inhibitor of the serine protease', '', '', '', 'periodontal regeneration is the reconstruction of the lost tissues as evidenced histologically in the', '', '', '', '', 'i proposes a new approach to the history of forensic medicine, emphasising travelling', '', 'the xrf release rate is a standardized method for assessing the release rate of', '', '', '', '', '', '', '', '', 'the corresponding two z - values were compared between the measurements ( patient acute v', '', '', '', '', 'measles virus ( mv ) is a highly contagious acute viral', '', 'escrt - iii and escrt - ii', 'meta - analyses of epidemiological surveys have reported that myopia is a risk factor for', '', '', 'the emergence of secondary - structure elements constitutes an early event in the chronology of folding', '', '', 'the raas is a circulating hormonal system, which promotes diabetes', '', '', 'ruthenium compounds belong to the most promising candidates of non - platinum containing metal complex', '', '', '', 'the e. coli clones were considered resistant or susceptible according to a standard introduced', 'conventional lentiviral vectors based on hiv-1 establish permanent genetic modification of target cells', '', '', '', 'dilated cardiomyopathy ( dcm ) is the fourth most common form', 'the escherichia coli groe chaperonin system facilitates protein', '', 'the ssx 1 - 9 gene family consists of 9 subtypes of cancer', '', '', '', 'sfks are a unique group of enzymes that have diverse functions in cell proliferation', 'the study was conducted using qualitative content analysis. the results of this study clarify the threats to pediatric', '', 'longitudinal follow - up began recently, so the present results are based on baseline data only', '', '', '', '', '', 'enhancing the binding potency of carbohydrate inhibitors of protein carbohydrate interactions is an', '', '', '', '', '', 'we consider the case of intercrosses among pairs of taxa, in place of locations', '', '', '', '', 'osteoporosis ( op ) is a systemic disease characterized by', 'cross - linking gd1b derived gangliosides are sia', 'collapsing the high - end categories of a comorbidity scale', 'colorectal polyps are pathologically classified as neoplastic or', '', '', '', 'apoptosis is a distinct form of cell death characterized by a series', '', '', '', '', 'chemoprevention utilizes appropriate pharmacological agents, consumed in diverse forms like', 'fabry disease ( fd ) is an x - linked recess', '', '', \"the screening india's twin epidemic study was conducted in eight states maharashtra,\", 'the streptococcal strains used in this study were provided from the culture collection of', '', '', '', '', '', '', '', '', '', '', '', 'forest walking has been reported as a novel form of therapy. however, it remains unclear', 'hdacis are effective drugs in the treatment of a variety of cancers,', '', '', '', '', 'the generation of global enh, global cypher, cy', 'the treatment of osteosarcoma currently involves surgical resection in combination with ne', '', '', '', '', 'the weakness of the respiratory musculature ( with reduced strength and muscular resistance ) has', '', '', 'microwave imaging has recently emerged as one of the most promising non - invasive imaging modalities', '', 'the horse was daily exercised in an outdoor rotary exerciser ( kondi - trainer', '', 'a prospective histoculture drug response assay ( hdra ) study in advanced', '', '', 'acinetobacter baumannii is a glucose non - fermentative gram', 'a medullary population of basophils with few granules,', 'the existence of conserved longevity pathways may seem counterintuitive from an evolutionary perspective. this is', 'the 5-year disease - free survival ( dfs ) has significantly improved in recent', '', '', 'schizophrenia participants completed an online, structured daily - diary questionnaire of mood and symptoms every evening for', 'we propose that vascular endothelial cells ( ecs ) form the', '', '', '', 'the mortality curve in hemophiliacs over the years has a biphasic', 'the biosynthesis of prodiginines ( 14 ) and marineosins ( 5', '', 'the pulmonary toxicity of airborne nanomaterials involves exposing animals to nanomaterials by', 'dcs - mediated therapies targeted to human cancer cells are promising candidates for antigen', '', 'nocturia is a prevalent condition of waking to void during the night that is', '', '', 'problem - based learning ( pbl ) has its roots in medical education programs', 'in 2012, prostate cancer was the fifth most commonly diagnosed malignancy in korean', '', '', 'the fluorescence lifetimes are monoexponential, and the fluorescence lifetime is', '', '', '', '', '', '', '', 'adnexa refer to the anatomical area adjacent to the uterus', 'chronic constrictive injury ( cci ) has been the common neuropathic pain model', '', '', '', 'the purpose of the present study was to evaluate the radiographic results of mis - alif and', '', '', 'the duration of untreated psychosis ( dup ) may be associated with short -', '', 'new zealand white rabbits of both sexes aged between 4 and 6 months', 'acculturation is a growing problem in the united states. accultura', '', '', 'peptide synthesis was a process of peptide synthesis. peptide', '', 'the aims of this case report are to show the changes in the gingival tissues in', '', '', 'migraine is a disabling neurological condition that is commonly observed in an episodic manner.', '', '', 'autism spectrum disorders ( asd ) are a complex group of severe neurodevelopmental disorders that', \"parkinson's disease ( pd ) is a neurodegenerative disorder\", '', '', '', '', '', '', '', '', '', '', '', 'the goal of this study was to determine if dancers demonstrated better static single - leg', '', '', '', '', \"the aim of this study was to investigate the relatives'satisfaction and involvement on a general surgery\", '', '', '', '', '', '', 'the results of a retrospective study of 70 women who underwent laparoscopic supracervical', '', 'a splicing variant is a highly regulated process, the outcome of which', 'participants were recruited via advertisements approved by the institutional review board ( irb ),', '', '', 'adolescent reproductive health outcomes in africa are the worst in the world.ad', '', 'recruitment, which began in january 1999 and ended in may 2001, took place', '', '', 'home - based pr with uepe was proposed to 71 patients with copd', '', '', '', '', '', '', '', 'a prospective clinical trial has identified a similar relationship between the location of the implant /', '', 'dna topoisomerases ( topii ) are enzy', '', '', '', '', '', 'the aim of this research is to ensure that clinical trials are well designed and conducted in an ethical manner', 'weight loss is a significant improvement from baseline to three months for adipose tissue', '', \"sperm's membrane polyunsaturated fatty acids have a critical role\", '']</td>\n",
              "    </tr>\n",
              "    <tr>\n",
              "      <td>3</td>\n",
              "      <td>1.401300</td>\n",
              "      <td>1.229144</td>\n",
              "      <td>['', 'the prevalence of obesity in early childhood has shown signs of decreasing ; however, for the his', '', '', '', 'the sensitivity of fluorescence - based bioassays is greatly improved with', 'the morphology of nanofibrous nonwoven materials makes them suitable for wound dressings.', 'owing to demographic aging, dementia has been identified as a major economic and societal', 'chronic obstructive pulmonary disease ( copd ) is one of the most prevalent', 'pigment epithelium derived factor ( pedf ) has emerged as a potential', '', '', 's. granulatus, which belongs to the family of boletacea', 'odontoblasts produce the dentin matrix and are responsible for the synthesis of', '', 'the number of cases positive for hcv or hcv infections was significantly increased in', '', 'substantial progress has been made using genetic markers to elucidate the evolutionary histories of populations,', '', '', 'ac - a(2535)-nh2 is an amphipath', 'elisa kits for the determination of insulin were purchased from alpco diagnostics', '', '', 'the auditory brainstem responses ( abr ) are known as the auditory brains', '', '', 'thrombosed native avfs underwent percutaneous restoration for 20 episodes of', '', '', '', 'the objective of this study was to describe treatment patterns and estimate health care resource utilization and costs among ja', '', 'the attitude scale of using tobacco which is used in this survey was first established by awaisu', '', 'the cocrystals are a crystalline material comprised of at least two different components', '', '', 'gender has been determined from pelvis, skull, and long bones, with assessment of', 'cnas are variations in the genome that result in either gain or loss of one or', '', '', 'emergence of the a / h1n109 influenza virus resulted in the', '', '', 'the national council of ageing and older people study undertaken in 2005 in the republic of irel', '', 'a t complte de gestion de linformation en anesthsie', '', '', '', '', 'canagliflozin is the first oral inhibitor of sodium / glucose cotransporter', '', '', 'the anterior cervical microforaminotomy ( acmf ) technique involves not', '', '', 'the presence and importance of theta oscillations in grid cells is a key factor in', '', 'lung carcinoma is the most common cause of cancer mortality world - wide. adeno', '', 'multiple sclerosis ( ms ) is one of the most frequent diseases of the central', 'dry eye is a multifactorial disorder of the ocular surface characterized by symptoms of', 'the main inclusion criteria were age > 18 years, mechanical ventilation with endotracheal in', 'linagliptin ( tradjenta, boehringer ingel', '', '', '', 'periodontal regeneration is the reconstruction of the lost tissues as evidenced histologically in the', '', '', '', '', 'the aim of this article is to explore the influence of forensic medicine and psychiatry', '', 'the aim of the present study was to develop a cheap, fast and reliable release rate method', '', '', '', '', '', '', '', '', 'vestibular neuritis is defined as a sudden unilateral partial failure of the vestibular', '', '', '', '', 'measles virus ( mv ) is a highly contagious acute viral', '', 'escrt - iii and yeast escrt - i', 'meta - analyses of epidemiological surveys have reported that myopia is a risk factor for', '', '', 'the emergence of secondary - structure elements constitutes an early event in the chronology of folding', '', '', 'the raas is a major circulating hormonal system, which promotes at', '', '', 'ruthenium compounds belong to the most promising candidates of non - platinum containing metal complex', '', '', '', 'the e. coli clones were a bacterial resistant e. coli', 'conventional lentiviral vectors based on hiv-1 establish permanent genetic modification of target cells', '', '', '', 'dilated cardiomyopathy ( dcm ) is the fourth most common form', 'the escherichia coli groe chaperonin system facilitates protein', '', 'the ssx 1 - 9 gene family consists of 9 subtypes of cancer', '', '', '', 'src family kinases ( sfks ) are a', 'the study was conducted using qualitative content analysis. the results of this study clarify the threats to pediatric', '', 'this study consists of elderly ( 65 years of age ) type 2 diabetic subjects who are', '', '', '', '', '', 'enhancing the binding potency of carbohydrate inhibitors of protein carbohydrate interactions is an', '', '', '', '', '', 'we consider the case of intercrosses among pairs of taxa, in place of locations', '', '', '', '', 'ovcf is a structural change in ovcf. the', 'cross - linking gd1b derived gangliosides are sia', 'the effect of collapsing comorbid diseases into a single scale provides an', 'colorectal polyps are pathologically classified as neoplastic or', '', '', '', 'cardiomyocyte apoptosis is a distinct form of cell death characterized by', '', '', '', '', 'chemoprevention utilizes appropriate pharmacological agents, consumed in diverse forms like', 'fabry disease ( fd ) is an x - linked recess', '', '', \"the screening india's twin epidemic study was conducted in eight states maharashtra,\", 'intermediate restorative material ( irm ) has addressed some drawbacks including moisture', '', '', '', '', '', '', '', '', '', '', '', 'forest walking has been reported as a novel form of therapy. however, it remains unclear', 'hdacis are effective drugs in the treatment of a variety of cancers,', '', '', '', '', 'the generation of global enh, global cypher, cy', 'the treatment of osteosarcoma currently involves surgical resection in combination with ne', '', '', '', '', 'systematic inflammation is now known to be an important aspect of chronic obstructive pulmonary disease', '', '', 'microwave imaging has recently emerged as one of the most promising non - invasive imaging modalities', '', 'the horse was daily exercised in an outdoor rotary exerciser ( kondi - trainer', '', 'ovarian cancer is the most lethal and second most common gynecologic', '', '', 'acinetobacter baumannii is a glucose non - fermentative gram', 'a medullary population of basophils with few granules,', 'the existence of conserved longevity pathways may seem counterintuitive from an evolutionary perspective. this is', 'the 5-year survival rate of patients with larc has improved in recent years, mainly', '', '', 'schizophrenia participants with low lpfc activity were able to assess the interaction between l', 'vascular endothelial cells ( ecs ) form the inner lining', '', '', '', 'the mortality curve in hemophiliacs over the years has a biphasic', 'the marineosin ( mar ) gene cluster is a family of linear and cycl', '', 'the pulmonary toxicity of airborne nanomaterials involves exposing animals to nanomaterials by', 'dcs expressing human tumor transmembrane antigens are promising candidates for', '', 'nocturia is a prevalent condition of waking to void during the night that is', '', '', 'problem - based learning ( pbl ) has its roots in medical education programs', 'in 2012, prostate cancer was the fifth most commonly diagnosed malignancy in korean', '', '', 'the fluorescence lifetimes are monoexponential, and the fluorescence lifetime is', '', '', '', '', '', '', '', 'adnexa refer to the anatomical area adjacent to the uterus', 'chronic constrictive injury ( cci ) has been the common neuropathic pain model', '', '', '', 'the purpose of the present study was to evaluate the radiographic results of mis - alif and', '', '', 'the duration of untreated psychosis ( dup ) may be associated with short -', '', 'new zealand white rabbits of both sexes aged between 4 and 6 months', 'acculturation is a growing problem in the united states. accultura', '', '', 'peptide synthesis was performed by peptide synthesis. peptide synthesis', '', 'alport syndrome ( as ) is a basement membrane ( bm ) disease', '', '', 'migraine is a disabling neurological condition that is commonly observed in an episodic manner.', '', '', 'autism spectrum disorders ( asd ) are a complex group of severe neurodevelopmental disorders that', \"parkinson's disease ( pd ) is a neurodegenerative disorder\", '', '', '', '', '', '', '', '', '', '', '', 'objective : the purpose of this study was to determine if dancers demonstrated better static single', '', '', '', '', \"the aim of this study was to investigate the relatives'satisfaction and involvement on a general surgery\", '', '', '', '', '', '', 'the results of a retrospective study of 9 randomized controlled trials, including a meta', '', 'a splicing variant is a highly regulated process, the outcome of which', 'the initial scale development included 234 men and women who lived independently in either the community or continuing care', '', '', 'adolescent reproductive health outcomes in africa are the worst in the world.ad', '', 'recruitment, which began in january 1999 and ended in may 2001, took place', '', '', 'home - based pr with uepe was proposed to 71 patients with copd', '', '', '', '', '', '', '', 'a prospective clinical trial has identified a similar relationship between the location of the implant /', '', 'cryptosporidium parvum is one of the most important causal agents of human diarrheas during', '', '', '', '', '', 'the aim of this research is to ensure that clinical trials are well designed and conducted in an ethical manner', 'weight loss is a significant improvement from baseline to three months for a low carbohydrate', '', \"sperm's membrane polyunsaturated fatty acids play an important defensive role\", '']</td>\n",
              "    </tr>\n",
              "    <tr>\n",
              "      <td>4</td>\n",
              "      <td>1.359100</td>\n",
              "      <td>1.222756</td>\n",
              "      <td>['', 'primary outcome of a randomized clinical trial was a pilot, randomized clinical trial designed', '', '', '', 'the ability to concentrate or extract micro / nanoparticles from the background matrix is essential to', 'the morphology of nanofibrous nonwoven materials makes them suitable for wound dressings.', 'owing to demographic aging, dementia has been identified as a major economic and societal', 'chronic obstructive pulmonary disease ( copd ) is one of the most prevalent', 'pigment epithelium derived factor ( pedf ) has emerged as a potential', '', '', 's. granulatus, which belongs to the family of boletacea', 'odontoblasts produce the dentin matrix and are responsible for the synthesis of', '', 'systematic review combining 27,881 hcc cases from 90 studies published between janu', '', 'substantial progress has been made using genetic markers to elucidate the evolutionary histories of populations,', '', '', 'ac - a(2535 ) and ac - a', 'elisa kits for the determination of insulin were purchased from alpco diagnostics', '', '', 'the auditory brainstem responses ( abr ) are characterized by the following four phases', '', '', 'thrombosed native avfs underwent percutaneous restoration for 20 episodes of', '', '', '', 'objective : to assess health care resource utilization and costs among japanese women with newly', '', 'objective : the attitudes, attitude and practice ( kap ) of youths about smoking', '', 'the cocrystals are a crystalline material comprised of at least two different components', '', '', 'gender has been determined from pelvis, skull, and long bones, with assessment of', 'we describe a simple yet effective method that addresses these issues. we describe a simple yet', '', '', 'emergence of the a / h1n109 influenza virus resulted in the', '', '', 'the national council of ageing and older people study undertaken in 2005 in the republic of irel', '', 'anesthesiologists and anesthesia registrars voluntarily reported complications and critical incidents', '', '', '', '', 'canagliflozin is the first oral inhibitor of sodium / glucose cotransporter', '', '', 'the anterior cervical microforaminotomy ( acmf ) technique involves not', '', '', 'the presence and importance of theta for grid formation is therefore currently controversial and requires further study', '', 'lung carcinoma is the most common cause of cancer mortality world - wide. adeno', '', 'multiple sclerosis ( ms ) is one of the most frequent diseases of the central', 'dry eye is a multifactorial disorder of the ocular surface characterized by symptoms of', 'objective : a resurgence in the research of 2 agonists for sed', 'linagliptin ( tradjenta, boehringer ingel', '', '', '', 'periodontal regeneration is the reconstruction of the lost tissues as evidenced histologically in the', '', '', '', '', 'the theme of infanticide has received increasing attention from historians in recent years. the aim of', '', 'the aim of the present study was to develop a cheap, fast and reliable release rate method', '', '', '', '', '', '', '', '', 'the present study investigated the effects of unilateral vestibular neuritis on the functional connectivity between the', '', '', '', '', 'measles virus ( mv ) is a highly contagious acute viral', '', 'escrt - iii and vacuolar protein sorting ( v', 'meta - analyses of epidemiological surveys have reported that myopia is a risk factor for', '', '', 'the emergence of secondary - structure elements constitutes an early event in the chronology of folding', '', '', 'the raas is a major circulating hormonal system but also a tissue system', '', '', 'ruthenium compounds belong to the most promising candidates of non - platinum containing metal complex', '', '', '', 'the emergence of quinolone resistance in fecal e. coli of', 'conventional lentiviral vectors based on hiv-1 establish permanent genetic modification of target cells', '', '', '', 'dilated cardiomyopathy ( dcm ) is the fourth most common form', 'the escherichia coli groe chaperonin system facilitates protein', '', 'the gene of cancer / testis antigens ( cta ) such as', '', '', '', 'src family kinases ( sfks ) are a', 'this paper is part of a nursing doctorate thesis conducted in 2014 in iran to clarify', '', 'this study consists of elderly ( 65 years of age ) type 2 diabetic subjects who are', '', '', '', '', '', 'enhancing the binding potency of carbohydrate inhibitors of protein carbohydrate interactions is an', '', '', '', '', '', 'we consider the case of intercrosses among pairs of taxa, in place of locations', '', '', '', '', 'ovcf is a systemic disease characterized by low bone mass, bone', 'cross - linking gd1b derived gangliosides are sia', 'the effect of collapsing the high - end categories of a comor', 'colorectal polyps are pathologically classified as neoplastic or', '', '', '', 'apoptosis is a distinct form of cell death characterized by a series', '', '', '', '', 'chemoprevention utilizes appropriate pharmacological agents, consumed in diverse forms like', 'fabry disease ( fd ) is an x - linked recess', '', '', 'the fourth diabetes atlas, published by the international diabetes federation ( id', 'intermediate restorative material ( irm ) has addressed some drawbacks including moisture', '', '', '', '', '', '', '', '', '', '', '', 'forest walking has been reported as a novel form of therapy. however, it remains unclear', 'hdacis are effective drugs in the treatment of a variety of cancers,', '', '', '', '', 'the generation of global enh, global cypher, cy', 'the 5-year survival rate of the treated patients was only about 20%. the treatment of osteos', '', '', '', '', 'objective : the effectiveness of imt in patients with chronic obstructive pulmonary disease', '', '', 'microwave imaging has recently emerged as one of the most promising non - invasive imaging modalities', '', 'this experiment was conducted at the norwegian university of life sciences. according to the norwe', '', 'ovarian cancer is the most lethal and second most common gynecologic', '', '', 'acinetobacter baumannii is a glucose non - fermentative gram', 'a medullary population of basophils with few granules,', 'the existence of conserved longevity pathways may seem counterintuitive from an evolutionary perspective. this is', 'the 5-year survival rate of patients with larc has improved in recent years, mainly', '', '', 'schizophrenia symptomatology is a biological vulnerability that contributes to illness severity. we have', 'vascular endothelial cells ( ecs ) form the inner lining', '', '', '', 'the mortality curve in hemophiliacs over the years has a biphasic', 'the marineosin ( mar ) gene cluster is a family of linear and cycl', '', 'the pulmonary toxicity of airborne nanomaterials involves exposing animals to nanomaterials by', 'dcs expressing human tumor transmembrane antigens are promising candidates for', '', 'nocturia is a prevalent condition of waking to void during the night that is', '', '', 'problem - based learning ( pbl ) has its roots in medical education programs', 'in 2012, prostate cancer was the fifth most commonly diagnosed malignancy in korean', '', '', 'the fluorescence lifetimes are monoexponential, and the fluorescence lifetime is', '', '', '', '', '', '', '', 'adnexa refer to the anatomical area adjacent to the uterus', 'chronic constrictive injury ( cci ) has been the common neuropathic pain model', '', '', '', 'the purpose of the present study was to evaluate the radiographic results of mis - alif and', '', '', 'the duration of untreated psychosis ( dup ) may be associated with short -', '', 'new zealand white rabbits of both sexes aged between 4 and 6 months', 'acculturation is a growing problem in the united states. accultura', '', '', 'peptide synthesis was performed by peptide synthesis : benzotriazole', '', 'alport syndrome ( as ) is a basement membrane ( bm ) disease', '', '', 'migraine is a disabling neurological condition that is commonly observed to occur in an episodic manner', '', '', 'autism spectrum disorders ( asd ) are a complex group of severe neurodevelopmental disorders that', \"parkinson's disease ( pd ) is neurodegenerative disorder characterized\", '', '', '', '', '', '', '', '', '', '', '', 'objective : the purpose of this study was to determine if dancers demonstrated better static single', '', '', '', '', \"the aim of this study was to investigate the relatives'satisfaction and involvement on a general surgery\", '', '', '', '', '', '', 'the results of a retrospective study of 9 randomized controlled trials, including a pathologic', '', 'pre - mrna splicing is a highly regulated process', 'the method for this investigation was approved by our institutional review board ( irb ) for', '', '', 'adolescent reproductive health outcomes in africa are the worst in the world. we', '', 'recruitment, which began in january 1999 and ended in may 2001, took place', '', '', 'home - based pr with uepe was proposed to 71 patients with copd', '', '', '', '', '', '', '', 'a prospective clinical trial has identified a similar relationship between the location of the implant /', '', 'cryptosporidium parvum is one of the most important causal agents of human diarrheas during', '', '', '', '', '', 'the aim of this research is to ensure that clinical trials are well designed and conducted in an ethical manner', 'weight loss is a significant adipokine, adiponectin', '', 'objective : the aim of the present study was to evaluate the effects of cigarette smoking on the', '']</td>\n",
              "    </tr>\n",
              "    <tr>\n",
              "      <td>5</td>\n",
              "      <td>1.386900</td>\n",
              "      <td>1.209020</td>\n",
              "      <td>['', 'primary outcome of a randomized clinical trial was a pilot, randomized clinical trial designed', '', '', '', 'the ability to concentrate or extract micro / nanoparticles from the background matrix is essential to', 'the aim of this study was to employ needleless electrospinning for the preparation of multi', 'owing to demographic aging, dementia has been identified as a major economic and societal', 'chronic obstructive pulmonary disease ( copd ) is one of the most prevalent', 'pigment epithelium derived factor ( pedf ) has emerged as a potential', '', '', 's. granulatus, which belongs to the family of boletacea', 'odontoblasts produce the dentin matrix and are responsible for the synthesis of', '', 'systematic review combining 27,881 hcc cases from 90 studies published between janu', '', 'substantial progress has been made using genetic markers to elucidate the evolutionary histories of populations,', '', '', 'a peptide is produced in the extracellular space from the proteolytic clea', 'elisa kits for the determination of insulin were purchased from alpco diagnostics', '', '', 'the auditory brainstem responses ( abr ) are characterized by the following four phases', '', '', 'thrombosed native avfs underwent percutaneous restoration for 20 episodes of', '', '', '', 'objective : to assess health care resource utilization and costs among japanese women with newly', '', 'objective : the attitudes, attitude and practice ( kap ) of youths about smoking', '', 'the cocrystals are a crystalline material comprised of at least two different components', '', '', 'gender has been determined from pelvis, skull, and long bones, with assessment of', 'the genome mappability was the first issue we aimed to address in this paper. we', '', '', 'emergence of the a / h1n109 influenza virus in 2009 resulted', '', '', 'the aim of this study was to explore attitudes held by health care workers towards older people in this rural', '', 'anesthesiologists and anesthesia registrars voluntarily reported complications and critical incidents', '', '', '', '', 'canagliflozin is the first oral inhibitor of sodium / glucose cotransporter', '', '', 'the anterior cervical microforaminotomy ( acmf ) technique involves not', '', '', 'the presence and importance of theta for grid formation is therefore currently controversial and requires further study', '', 'lung carcinoma is the most common cause of cancer mortality world - wide. adeno', '', 'multiple sclerosis ( ms ) is one of the most frequent diseases of the central', 'dry eye is a multifactorial disorder of the ocular surface characterized by symptoms of', 'objective : a resurgence in the research of 2 agonists for sed', 'linagliptin ( tradjenta, boehringer ingel', '', '', '', 'the ultimate goal of periodontal therapy is the regeneration of periodontal tissues that have been destroyed', '', '', '', '', 'the theme of infanticide has received increasing attention from historians in recent years. the aim of', '', 'the aim of the present study was to develop a cheap, fast and reliable release rate method', '', '', '', '', '', '', '', '', 'the present study investigated the effects of unilateral vestibular neuritis on the functional connectivity between the', '', '', '', '', 'measles virus ( mv ) is a highly contagious acute viral', '', 'escrt - iii and vacuolar protein sorting ( v', 'meta - analyses of epidemiological surveys have reported that myopia is a risk factor for primary', '', '', 'the emergence of secondary - structure elements constitutes an early event in the chronology of folding', '', '', 'the raas is a major circulating hormonal system, which promotes at', '', '', 'ruthenium compounds belong to the most promising candidates of non - platinum containing metal complex', '', '', '', 'the emergence of quinolone resistance in fecal e. coli of', 'conventional lentiviral vectors based on hiv-1 establish permanent genetic modification of target cells', '', '', '', 'dilated cardiomyopathy ( dcm ) is the fourth most prevalent form', 'the escherichia coli groe chaperonin system facilitates protein', '', 'the ssx 1 - 9 gene family consists of 9 subtypes of cancer', '', '', '', 'src family kinases ( sfks ) are a', 'the study was conducted using qualitative content analysis. the study was conducted to clarify the caring self', '', 'this study consists of elderly ( 65 years of age ) type 2 diabetic subjects who are', '', '', '', '', '', 'enhancing the binding potency of carbohydrate inhibitors of protein carbohydrate interactions is an', '', '', '', '', '', 'we consider the case of intercrosses among pairs of taxa, in place of locations', '', '', '', '', 'ovcf is a systemic disease characterized by low bone mass, bone', 'cross - linking gd1b derived gangliosides are sia', 'the effect of collapsing the high - end categories of a comor', 'colorectal polyps are pathologically classified as neoplastic or', '', '', '', 'apoptosis is a distinct form of cell death characterized by a series', '', '', '', '', 'chemoprevention utilizes appropriate pharmacological agents, consumed in diverse forms like', 'fabry disease ( fd ) is an x - linked recess', '', '', \"the screening india's twin epidemic study was conducted in eight states maharashtra,\", 'intermediate restorative material ( irm ) has addressed some drawbacks including moisture', '', '', '', '', '', '', '', '', '', '', '', 'forest walking has been reported as a novel form of therapy. however, it remains unclear', 'hdacis are effective drugs in the treatment of a variety of cancers,', '', '', '', '', 'the generation of global enh, global cypher, cy', 'the 5-year survival rate of the treated patients was only about 20%. the treatment of osteos', '', '', '', '', 'objective : the effectiveness of imt in patients with chronic obstructive pulmonary disease', '', '', 'microwave imaging has recently emerged as one of the most promising non - invasive imaging modalities', '', 'the horse cannulation of the horses ( four geldings of norwegian cold', '', 'ovarian cancer is the most lethal and second most common gynecologic', '', '', 'acinetobacter baumannii is a glucose non - fermentative gram', 'a medullary population of basophils with few granules,', 'the existence of conserved longevity pathways may seem counterintuitive from an evolutionary perspective. this is', 'the 5-year disease - free survival ( dfs ) has significantly improved in recent', '', '', 'schizophrenia symptomatology is a complex and complex problem. we present a study of', 'vascular endothelial cells ( ecs ) form the inner lining', '', '', '', 'the mortality curve in hemophiliacs over the years has a biphasic', 'the marineosin ( mar ) gene cluster is a family of linear and cycl', '', 'the pulmonary toxicity of airborne nanomaterials involves exposing animals to nanomaterials by', 'dcs are the most potent antigen presenting cells and robustly induce adaptive immunity', '', 'nocturia is a prevalent condition of waking to void during the night that is', '', '', 'problem - based learning ( pbl ) has its roots in medical education programs', 'in 2012, prostate cancer was the fifth most commonly diagnosed malignancy in korean', '', '', 'the fluorescence lifetimes are monoexponential, and the fluorescence lifetime is', '', '', '', '', '', '', '', 'adnexa refer to the anatomical area adjacent to the uterus', 'chronic constrictive injury ( cci ) has been the common neuropathic pain model', '', '', '', 'the purpose of the present study was to evaluate the radiographic results of mis - alif and', '', '', 'background : schizophrenia is often preceded by nonspecific changes in behavior, emotional state,', '', 'new zealand white rabbits of both sexes aged between 4 and 6 months', 'acculturation is associated with a process of overall adaptation on both individual and group levels', '', '', 'peptide synthesis was performed by peptide synthesis : benzotriazole', '', 'alport syndrome ( as ) is a hereditary disorder characterized by a combination', '', '', 'migraine is a disabling neurological condition that is commonly observed to occur in an episodic manner', '', '', 'autism spectrum disorders ( asd ) are a complex group of severe neurodevelopmental disorders that', \"parkinson's disease ( pd ) is a neurodegenerative disorder\", '', '', '', '', '', '', '', '', '', '', '', 'objective : the purpose of this study was to determine if dancers demonstrated better static single', '', '', '', '', \"the aim of this study was to investigate the relatives'satisfaction and involvement on a general surgery\", '', '', '', '', '', '', 'the results of a retrospective study of 9 randomized controlled trials, including a meta', '', 'splicing is a highly regulated process, the outcome of which is critical for', 'the method for this investigation was approved by our institutional review board ( irb ) for', '', '', 'background : adolescent reproductive health outcomes in africa are the worst in the world', '', 'recruitment, which began in january 1999 and ended in may 2001, took place', '', '', 'home - based pr with uepe was proposed to 71 patients with copd', '', '', '', '', '', '', '', 'a prospective clinical trial has identified a similar relationship between the location of the implant /', '', 'cryptosporidium parvum is one of the most important causal agents of human diarrheas during', '', '', '', '', '', 'the aim of this research is to ensure that clinical trials are well designed and conducted in an ethical manner', 'weight loss is a significant adipokine, adiponectin', '', 'objective : the aim of the present study was to evaluate the effects of cigarette smoking on the', '']</td>\n",
              "    </tr>\n",
              "    <tr>\n",
              "      <td>6</td>\n",
              "      <td>1.357700</td>\n",
              "      <td>1.206285</td>\n",
              "      <td>['', 'primary outcome was bmi z - score change at the end of intervention ( six', '', '', '', 'ac dielectrophoresis ( dep ) is the motion of a', 'the aim of this study was to employ needleless electrospinning for the preparation of multi', 'owing to demographic aging, dementia has been identified as a major economic and societal', 'chronic obstructive pulmonary disease ( copd ) is one of the most prevalent', 'pigment epithelium derived factor ( pedf ) has emerged as a potential', '', '', 's. granulatus, which belongs to the family of boletacea', 'odontoblasts produce the dentin matrix and are responsible for the synthesis of', '', 'the prevalence of hcv in a population of 50 countries worldwide is a significant increase', '', 'substantial progress has been made using genetic markers to elucidate the evolutionary histories of populations,', '', '', 'ac - a(2535)-nh2 is an amphipath', 'elisa kits for the determination of insulin were purchased from alpco diagnostics', '', '', 'the auditory brainstem responses ( abr ) are characterized by the following four phases', '', '', 'thrombosed native avfs underwent percutaneous restoration for 20 episodes of', '', '', '', 'objective : to describe treatment patterns and estimate health care resource utilization and costs among japanes', '', 'objective : the aim of this study was to determine the kap of a sample of', '', 'the cocrystals are a crystalline material comprised of at least two different components', '', '', 'gender has been determined from pelvis, skull, and long bones, with assessment of', 'the genome mappability was the first issue we aimed to address in this paper. we', '', '', 'emergence of the a / h1n109 influenza virus in 2009 resulted', '', '', 'objective : to measure attitudes of health care workers towards older people in this rural county, the', '', 'anesthesia - related incidents were reported in a tertiary referral university hospital (', '', '', '', '', 'the challenge of treating diabetes in this section of population is to avoid hypoglycemia.', '', '', 'the anterior cervical microforaminotomy ( acmf ) technique involves not', '', '', 'the presence and importance of theta for grid formation is therefore currently controversial and requires further study', '', 'lung carcinoma is the most common cause of cancer mortality world - wide. adeno', '', 'multiple sclerosis ( ms ) is one of the most frequent diseases of the central', 'dry eye is a multifactorial disorder of the ocular surface characterized by symptoms of', 'objective : a resurgence in the research of 2 agonists for sed', 'linagliptin ( tradjenta, boehringer ingel', '', '', '', 'the ultimate goal of periodontal therapy is the regeneration of periodontal tissues that have been destroyed', '', '', '', '', 'the theme of infanticide has received increasing attention from historians in recent years. the theme of', '', 'the aim of the present study was to determine the biocidal release rate of biocides from', '', '', '', '', '', '', '', '', 'the present study investigated the effects of unilateral vestibular neuritis on the functional connectivity between the', '', '', '', '', 'measles virus ( mv ) is a highly contagious acute viral', '', 'escrt - iii and vacuolar protein sorting ( v', 'meta - analyses of epidemiological surveys have reported that myopia is a risk factor for', '', '', 'the emergence of secondary - structure elements constitutes an early event in the chronology of folding', '', '', 'cardiovascular diseases ( cvd ) are the main cause of diabetes - related morbid', '', '', 'ruthenium compounds belong to the most promising candidates of non - platinum containing metal complex', '', '', '', 'the emergence of quinolone resistance in fecal e. coli of', 'conventional lentiviral vectors based on hiv-1 establish permanent genetic modification of target cells', '', '', '', 'background : cardiovascular disease is the fourth most common cause of death in dogs and one of the most', 'the escherichia coli groe chaperonin system facilitates protein', '', 'the gene of cancer / testis antigens ( cta ) such as', '', '', '', 'src family kinases ( sfks ) are a', 'background : a nursing doctorate thesis was conducted in 2014 in iran to clarify the', '', 'this study consists of elderly ( 65 years of age ) type 2 diabetic subjects who are', '', '', '', '', '', 'enhancing the binding potency of carbohydrate inhibitors of protein carbohydrate interactions is an', '', '', '', '', '', 'we consider the case of intercrosses among pairs of taxa, in place of locations', '', '', '', '', 'ovcf is a systemic disease characterized by low bone mass, bone', 'cross - linking gd1b derived gangliosides are a', 'the effect of collapsing the high - end categories of a comor', 'colorectal polyps are pathologically classified as neoplastic or', '', '', '', 'apoptosis is a distinct form of cell death characterized by a series', '', '', '', '', 'chemoprevention utilizes appropriate pharmacological agents, consumed in diverse forms like', 'fabry disease ( fd ) is an x - linked recess', '', '', 'the fourth diabetes atlas, published by the international diabetes federation ( id', 'intermediate restorative material ( irm ) has addressed some drawbacks including moisture', '', '', '', '', '', '', '', '', '', '', '', 'forest walking has been reported as a novel form of therapy. however, it remains unclear', 'hdacis are effective drugs in the treatment of a variety of cancers,', '', '', '', '', 'the generation of global enh, global cypher, cy', 'the 5-year survival rate of the treated patients was only about 20%. the treatment of osteos', '', '', '', '', 'objective : the effectiveness of imt in patients with chronic obstructive pulmonary disease', '', '', 'microwave imaging has recently emerged as one of the most promising non - invasive imaging modalities', '', 'the horse was daily exercised in an outdoor rotary exerciser ( kondi - trainer', '', 'ovarian cancer is the most lethal and second most common gynecologic', '', '', 'acinetobacter baumannii is a glucose non - fermentative gram', 'a medullary population of basophils with few granules,', 'the existence of conserved longevity pathways may seem counterintuitive from an evolutionary perspective. this is', 'the 5-year survival rate of patients with larc has improved in recent years, mainly', '', '', 'background : interpersonal conflicts are emotionally difficult and require regulation of negative affect and behavior for successful resolution', 'vascular endothelial cells ( ecs ) form the inner lining', '', '', '', 'the mortality curve in hemophiliacs over the years has a biphasic', 'the marineosin ( mar ) gene cluster is a family of linear and cycl', '', 'the pulmonary toxicity of airborne nanomaterials involves exposing animals to nanomaterials by', 'dcs are the most potent antigen presenting cells and robustly induce adaptive immunity', '', 'nocturia is a prevalent condition of waking to void during the night that is', '', '', 'problem - based learning ( pbl ) has its roots in medical education programs', 'background : prostate cancer is the fifth most commonly diagnosed malignancy in korean men', '', '', 'the fluorescence lifetimes are monoexponential, and the fluorescence lifetime is', '', '', '', '', '', '', '', 'adnexa refer to the anatomical area adjacent to the uterus', 'chronic constrictive injury ( cci ) has been the common neuropathic pain model', '', '', '', 'objective : the purpose of the present study was to evaluate the radiographic results of mis -', '', '', 'background : schizophrenia is often preceded by nonspecific changes in behavior, emotional state,', '', 'new zealand white rabbits of both sexes aged between 4 and 6 months', 'acculturation is associated with lower meal frequency, more frequent snacking, and', '', '', 'peptide synthesis was performed by peptide synthesis : benzotriazole', '', 'alport syndrome ( as ) is a hereditary disorder characterized by a combination', '', '', 'migraine is a disabling neurological condition that is commonly observed to occur in an episodic manner', '', '', 'autism spectrum disorders ( asd ) are a complex group of severe neurodevelopmental disorders that', \"parkinson's disease ( pd ) is neurodegenerative disorder characterized\", '', '', '', '', '', '', '', '', '', '', '', 'objective : the purpose of this study was to determine if dancers demonstrated better static single', '', '', '', '', \"objective : this study measured the impact of different levels of social support on patients'self\", '', '', '', '', '', '', 'the results of a retrospective study of 9 randomized controlled trials, including a meta', '', 'pre - mrna splicing is a highly regulated process', 'the method for this investigation was approved by our institutional review board ( irb ) for', '', '', 'background : adolescent reproductive health outcomes in africa are the worst in the world', '', 'recruitment, which began in january 1999 and ended in may 2001, took place', '', '', 'home - based pulmonary rehabilitation ( pr ) for these patients has been amply demonstrated', '', '', '', '', '', '', '', 'a prospective clinical trial has identified a similar relationship between the location of the implant /', '', 'dna topoisomerases ( topii ) are enzy', '', '', '', '', '', 'the aim of this research is to ensure that clinical trials are well designed and conducted in an ethical manner', 'weight loss is a significant adipokine, adiponectin', '', 'objective : the aim of the present study was to evaluate the effects of cigarette smoking on the', '']</td>\n",
              "    </tr>\n",
              "    <tr>\n",
              "      <td>7</td>\n",
              "      <td>1.356300</td>\n",
              "      <td>1.198926</td>\n",
              "      <td>['', 'primary outcome was bmi z - score change at the end of intervention ( six', '', '', '', 'ac dielectrophoresis ( dep ) is the motion of a', 'the aim of this study was to employ needleless electrospinning for the preparation of multi', 'owing to demographic aging, dementia has been identified as a major economic and societal', 'chronic obstructive pulmonary disease ( copd ) is one of the most prevalent', 'pigment epithelium derived factor ( pedf ) has emerged as a potential', '', '', 's. granulatus, which belongs to the family of boletacea', 'odontoblasts produce the dentin matrix and are responsible for the synthesis of', '', 'systematic review combining 27,881 hcc cases from 90 studies published between janu', '', 'background : we analysed 11,555 single nucleotide polymorphism (', '', '', 'a full length tau is a 3943-residue peptide with', 'elisa kits for the determination of insulin were purchased from alpco diagnostics', '', '', 'the auditory brainstem responses ( abr ) are characterized by the following four phases', '', '', 'thrombosed native avfs underwent percutaneous restoration for 20 episodes of', '', '', '', 'objective : to describe treatment patterns and estimate health care resource utilization among japanese women', '', 'objective : the knowledge, attitude and practice ( kap ) of youths about smoking', '', 'the cocrystals are a commonplace and often used to modify the physical properties of', '', '', 'gender has been determined from pelvis, skull, and long bones, with assessment of', 'background : cnas are variations in the genome that result in either gain or loss', '', '', 'emergence of the a / h1n109 influenza virus in 2009 resulted', '', '', 'background : attitudes towards older people are a global phenomenon, and the republic of ire', '', 'anesthesia - related incidents were reported in a tertiary referral university hospital (', '', '', '', '', 'the challenge of treating diabetes in this section of population is to avoid hypoglycemia.', '', '', 'the anterior cervical microforaminotomy ( acmf ) technique involves not', '', '', 'the presence and importance of theta for grid formation is therefore currently controversial and requires further study', '', 'lung carcinoma is the most common cause of cancer mortality world - wide. adeno', '', 'multiple sclerosis ( ms ) is one of the most frequent diseases of the central', 'dry eye is a multifactorial disorder of the ocular surface characterized by symptoms of', 'objective : a resurgence in the research of 2 agonists for sed', 'linagliptin ( tradjenta, boehringer ingel', '', '', '', 'the ultimate goal of periodontal therapy is the regeneration of periodontal tissues that have been destroyed', '', '', '', '', 'the theme of infanticide has received increasing attention from historians in recent years. the theme of', '', 'the aim of the present study was to determine the release rate of biocide - free anti', '', '', '', '', '', '', '', '', 'objective : the present study investigated the effects of unilateral vestibular neuritis on the functional', '', '', '', '', 'measles virus ( mv ) is a highly contagious acute viral', '', 'escrt - iii and vacuolar protein sorting ( v', 'meta - analyses of epidemiological surveys have reported that myopia is a risk factor for primary', '', '', 'the emergence of secondary - structure elements constitutes an early event in the chronology of folding', '', '', 'cardiovascular diseases ( cvd ) are the main cause of diabetes - related morbid', '', '', 'ruthenium compounds belong to the most promising candidates of non - platinum containing metal complex', '', '', '', 'the emergence of quinolone resistance in fecal e. coli of', 'conventional lentiviral vectors based on hiv-1 establish permanent genetic modification of target cells', '', '', '', 'background : cardiovascular disease is the fourth most common cause of death in dogs and one of the most', 'the escherichia coli groe chaperonin system facilitates protein', '', 'the gene of cancer / testis antigens ( cta ) such as', '', '', '', 'src family kinases ( sfks ) are a', 'background : the study was conducted to clarify the caring self - efficacy concept among pediatric', '', 'this study consists of elderly ( 65 years of age ) type 2 diabetic subjects who are', '', '', '', '', '', 'enhancing the binding potency of carbohydrate inhibitors of protein carbohydrate interactions is an', '', '', '', '', '', 'we consider the case of intercrosses among pairs of taxa, in place of locations', '', '', '', '', 'ovcf is a structural change in ovcf. the presence', 'cross - linking gd1b derived gangliosides are a', 'the effect of collapsing the high - end categories of a comor', 'colorectal polyps are pathologically classified as neoplastic or', '', '', '', 'apoptosis is a distinct form of cell death characterized by a series', '', '', '', '', 'chemoprevention utilizes appropriate pharmacological agents, consumed in diverse forms like', 'fabry disease ( fd ) is an x - linked recess', '', '', 'the fourth diabetes atlas, published by the international diabetes federation ( id', 'intermediate restorative material ( irm ) has addressed some drawbacks including moisture', '', '', '', '', '', '', '', '', '', '', '', 'forest walking has been reported as a novel form of therapy. we investigated the effects of forest', 'hdacis are effective drugs in the treatment of a variety of cancers,', '', '', '', '', 'the generation of global enh, global cypher, cy', 'the 5-year survival rate of the treated patients was only about 20%. the treatment of osteos', '', '', '', '', 'objective : the effectiveness of imt in patients with chronic obstructive pulmonary disease', '', '', 'microwave imaging has recently emerged as one of the most promising non - invasive imaging modalities', '', 'the horse cannulation of the horses ( four geldings of norwegian cold', '', 'ovarian cancer is the most lethal and second most common gynecologic', '', '', 'acinetobacter baumannii is a glucose non - fermentative gram', 'a medullary population of basophils with few granules,', 'background : the existence of conserved longevity pathways may seem counterintuitive from an evolutionary perspective', 'the 5-year survival rate of patients with larc has improved in recent years, mainly', '', '', 'background : interpersonal conflicts are emotionally difficult and require regulation of negative affect and behavior for successful resolution', 'vascular endothelial cells ( ecs ) form the inner lining', '', '', '', 'the mortality curve in hemophiliacs over the years has a biphasic', 'the marineosin ( mar ) gene cluster is a family of linear and cycl', '', 'the pulmonary toxicity of airborne nanomaterials involves exposing animals to nanomaterials by', 'immunization of human dendritic cells ( dcs ) is', '', 'nocturia is a prevalent condition of waking to void during the night that is', '', '', 'problem - based learning ( pbl ) has its roots in medical education programs', 'background : prostate cancer is the fifth most commonly diagnosed malignancy in korean men', '', '', 'the fluorescence lifetimes are monoexponential, and the fluorescence lifetime is', '', '', '', '', '', '', '', 'adnexa refer to the anatomical area adjacent to the uterus', 'chronic constrictive injury ( cci ) has been the common neuropathic pain model', '', '', '', 'objective : the purpose of the present study was to evaluate the radiographic results of mis -', '', '', 'background : schizophrenia is often preceded by nonspecific changes in behavior, emotional state,', '', 'new zealand white rabbits of both sexes aged between 4 and 6 months', 'acculturation is associated with acculturation, snacking, and', '', '', 'peptide synthesis was performed by peptide synthesis. peptide synthesis', '', 'alport syndrome ( as ) is a hereditary disorder characterized by a combination', '', '', 'migraine is a disabling neurological condition that is commonly observed to occur in an episodic manner', '', '', 'autism spectrum disorders ( asd ) are a complex group of severe neurodevelopmental disorders that', \"parkinson's disease ( pd ) is a neurodegenerative disorder\", '', '', '', '', '', '', '', '', '', '', '', 'objective : the purpose of this study was to determine if dancers demonstrated better static single', '', '', '', '', \"objective : this study measured the impact of different levels of social support on patients'self\", '', '', '', '', '', '', 'the results of a retrospective study of adenomyosis and bleeding after la', '', 'pre - mrna splicing is a highly regulated process', 'the method for this investigation was approved by our institutional review board ( irb ) for', '', '', 'background : adolescent reproductive health outcomes in africa are the worst in the world', '', 'recruitment, which began in january 1999 and ended in may 2001, took place', '', '', 'home - based pulmonary rehabilitation ( pr ) for these patients has been amply demonstrated', '', '', '', '', '', '', '', 'a prospective clinical trial has identified a similar relationship between the location of the implant -', '', 'cryptosporidium parvum is one of the most important causal agents of human diarrheas during', '', '', '', '', '', 'background : pharmacodiagnostic ( theranostic ) applications can simplify the', 'weight loss is a significant adipokine, adiponectin', '', 'objective : the aim of the present study was to evaluate the effects of cigarette smoking on the', '']</td>\n",
              "    </tr>\n",
              "    <tr>\n",
              "      <td>8</td>\n",
              "      <td>1.341000</td>\n",
              "      <td>1.199486</td>\n",
              "      <td>['', 'primary outcome was bmi z - score change at the end of intervention ( six', '', '', '', 'ac dielectrophoresis ( dep ) is the motion of a', 'the aim of this study was to employ needleless electrospinning for the preparation of multi', 'owing to demographic aging, dementia has been identified as a major economic and societal', 'chronic obstructive pulmonary disease ( copd ) is one of the most prevalent', 'pigment epithelium derived factor ( pedf ) has emerged as a potential', '', '', 's. granulatus, which belongs to the family of boletacea', 'odontoblasts produce the dentin matrix and are responsible for the synthesis of', '', 'systematic review combining 27,881 hcc cases from 90 studies published between janu', '', 'background : we analysed 11,555 single nucleotide polymorphism (', '', '', 'a full length tau is a 3943-residue peptide with', 'elisa kits for the determination of insulin were purchased from alpco diagnostics', '', '', 'the auditory brainstem responses ( abr ) are characterized by the following four phases', '', '', 'thrombosed native avfs underwent percutaneous restoration for 20 episodes of', '', '', '', 'objective : to describe treatment patterns and estimate health care resource utilization and costs among japanes', '', 'objective : the knowledge, attitude and practice ( kap ) of youths about smoking', '', 'the cocrystalline examples presented herein will possess the following criteria : ( 1 ) an', '', '', 'gender has been determined from pelvis, skull, and long bones, with assessment of', 'background : cnas are variations in the genome that result in either gain or loss', '', '', 'emergence of the a / h1n109 influenza virus in 2009 resulted', '', '', 'background : attitudes towards older people are a global phenomenon, and the republic of ire', '', 'anesthesia - related incidents were reported in a tertiary referral university hospital (', '', '', '', '', 'the challenge of treating diabetes in this section of population is to avoid hypoglycemia.', '', '', 'the anterior cervical microforaminotomy ( acmf ) technique involves not', '', '', 'background : grid cells in the medial entorhinal cortex ( mec )', '', 'lung carcinoma is the most common cause of cancer mortality world - wide. adeno', '', 'multiple sclerosis ( ms ) is one of the most frequent diseases of the central', 'dry eye is a multifactorial disorder of the ocular surface characterized by symptoms of', 'objective : a resurgence in the research of 2 agonists for sed', 'linagliptin ( tradjenta, boehringer ingel', '', '', '', 'the ultimate goal of periodontal therapy is the regeneration of periodontal tissues that have been destroyed', '', '', '', '', 'background : the theme of infanticide has received increasing attention from historians in recent years.', '', 'the aim of the present study was to determine the release rate of biocide - free anti', '', '', '', '', '', '', '', '', 'objective : the present study investigated the effects of unilateral vestibular neuritis on the functional', '', '', '', '', 'measles virus ( mv ) is a highly contagious acute viral', '', 'escrt - iii and vacuolar protein sorting ( v', 'meta - analyses of epidemiological surveys have reported that myopia is a risk factor for', '', '', 'the emergence of secondary - structure elements constitutes an early event in the chronology of folding', '', '', 'cardiovascular diseases ( cvd ) are the main cause of diabetes - related morbid', '', '', 'ruthenium compounds belong to the most promising candidates of non - platinum containing metal complex', '', '', '', 'the emergence of quinolone resistance in fecal e. coli of', 'conventional lentiviral vectors based on hiv-1 establish permanent genetic modification of target cells', '', '', '', 'background : cardiovascular disease is the fourth most common cause of death in dogs and one of the most', 'the escherichia coli groe chaperonin system facilitates protein', '', 'the gene of cancer / testis antigens ( cta ) such as', '', '', '', 'src family kinases ( sfks ) are a', 'background : the study was conducted to clarify the caring self - efficacy concept among pediatric', '', 'this study consists of elderly ( 65 years of age ) type 2 diabetic subjects who are', '', '', '', '', '', 'enhancing the binding potency of carbohydrate inhibitors of protein carbohydrate interactions is an', '', '', '', '', '', 'we consider the case of intercrosses among pairs of taxa, consider only autosom', '', '', '', '', 'ovcf is a structural change in ovcf. the presence', 'cross - linking gd1b derived gangliosides are a', 'objective : collapsing comorbid diseases into a single scale provides an', 'colorectal polyps are pathologically classified as neoplastic or', '', '', '', 'apoptosis is a distinct form of cell death characterized by a series', '', '', '', '', 'chemoprevention utilizes appropriate pharmacological agents, consumed in diverse forms like', 'fabry disease ( fd ) is an x - linked recess', '', '', 'background : the fourth diabetes atlas, published by the international diabetes federation (', 'intermediate restorative material ( irm ) has addressed some drawbacks including moisture', '', '', '', '', '', '', '', '', '', '', '', 'forest walking has been reported as a novel form of therapy. we investigated the effects of forest', 'hdacis are effective drugs in the treatment of a variety of cancers,', '', '', '', '', 'the generation of global enh, global cypher, cy', 'the 5-year survival rate of the treated patients was only about 20%. the treatment of osteos', '', '', '', '', 'objective : the effectiveness of imt in patients with chronic obstructive pulmonary disease', '', '', 'microwave imaging has recently emerged as one of the most promising non - invasive imaging modalities', '', 'the horse was fed at 06:00, 16:00, and 22:00 hours,', '', 'ovarian cancer is the most lethal and second most common gynecologic', '', '', 'acinetobacter baumannii is a glucose non - fermentative gram', 'a medullary population of basophils with few granules,', 'background : the existence of conserved longevity pathways may seem counterintuitive from an evolutionary perspective', 'the 5-year survival rate of patients with larc has improved in recent years, mainly', '', '', 'background : interpersonal conflicts are emotionally difficult and require regulation of negative affect and behavior for successful resolution', 'vascular endothelial cells ( ecs ) form the inner lining', '', '', '', 'the mortality curve in hemophiliacs over the years has a biphasic', 'the marineosin ( mar ) gene cluster is a family of linear and cycl', '', 'the pulmonary toxicity of airborne nanomaterials involves exposing animals to nanomaterials by', 'immunization of human dendritic cells ( dcs ) is', '', 'nocturia is a prevalent condition of waking to void during the night that is', '', '', 'problem - based learning ( pbl ) has its roots in medical education programs', 'background : prostate cancer is the fifth most commonly diagnosed malignancy in korean men', '', '', 'the fluorescence lifetimes are a function of viscosity, and the flu', '', '', '', '', '', '', '', 'adnexa refer to the anatomical area adjacent to the uterus', 'chronic constrictive injury ( cci ) has been the common neuropathic pain model', '', '', '', 'objective : the purpose of the present study was to evaluate the radiographic results of mis -', '', '', 'background : schizophrenia is often preceded by nonspecific changes in behavior, emotional state,', '', 'new zealand white rabbits of both sexes aged between 4 and 6 months', 'acculturation is associated with lower meal frequency, more frequent snacking, and', '', '', 'peptide synthesis was performed by peptide synthesis. peptide synthesis', '', 'alport syndrome ( as ) is a hereditary disorder characterized by a combination', '', '', 'migraine is a disabling neurological condition that is commonly observed to occur in an episodic manner', '', '', 'autism spectrum disorders ( asd ) are a complex group of severe neurodevelopmental disorders that', \"parkinson's disease ( pd ) is a neurodegenerative disorder\", '', '', '', '', '', '', '', '', '', '', '', 'objective : the purpose of this study was to determine if dancers demonstrated better static single', '', '', '', '', \"objective : this study measured the impact of different levels of social support on patients'self\", '', '', '', '', '', '', 'the results of a retrospective study of adenomyosis and bleeding after la', '', 'pre - mrna splicing is a highly regulated process', 'the method for this investigation was approved by our institutional review board ( irb ) for', '', '', 'background : adolescent reproductive health outcomes in africa are the worst in the world', '', 'recruitment, which began in january 1999 and ended in may 2001, took place', '', '', 'home - based pulmonary rehabilitation ( pr ) for these patients has been amply demonstrated', '', '', '', '', '', '', '', 'a prospective clinical trial has identified a similar relationship between the location of the implant /', '', 'cryptosporidium parvum is one of the most important causal agents of human diarrheas during', '', '', '', '', '', 'background : pharmacodiagnostic ( theranostic ) applications can simplify the', 'weight loss is a significant adipokine, adiponectin', '', 'objective : the aim of the present study was to evaluate the effects of cigarette smoking on the', '']</td>\n",
              "    </tr>\n",
              "    <tr>\n",
              "      <td>9</td>\n",
              "      <td>1.314100</td>\n",
              "      <td>1.196486</td>\n",
              "      <td>['', 'primary outcome was bmi z - score change at the end of intervention ( six', '', '', '', 'ac dielectrophoresis ( dep ) is the motion of a', 'the aim of this study was to employ needleless electrospinning for the preparation of multi', 'owing to demographic aging, dementia has been identified as a major economic and societal', 'chronic obstructive pulmonary disease ( copd ) is one of the most prevalent', 'pigment epithelium derived factor ( pedf ) has emerged as a potential', '', '', 's. granulatus, which belongs to the family of boletacea', 'odontoblasts are the principal mineralized tissue of teeth. the odon', '', 'objective : in 2007, our group published a systematic review combining 27,881', '', 'background : we analysed 11,555 single nucleotide polymorphism (', '', '', 'a full length tau is a 3943-residue peptide with', 'elisa kits for the determination of insulin were purchased from alpco diagnostics', '', '', 'the auditory brainstem responses ( abr ) are characterized by the following four phases', '', '', 'thrombosed native avfs underwent percutaneous restoration for 20 episodes of', '', '', '', 'objective : to describe treatment patterns and estimate health care resource utilization and costs among japanes', '', 'objective : the knowledge, attitude and practice ( kap ) of youths about smoking', '', 'the cocrystalline examples presented herein will possess the following criteria : ( 1 ) an', '', '', 'gender has been determined from pelvis, skull, and long bones, with assessment of', 'background : cnas are variations in the genome that result in either gain or loss', '', '', 'emergence of the a / h1n109 influenza virus in 2009 resulted', '', '', 'background : attitudes towards older people are a global phenomenon, and the republic of ire', '', 'anesthesia - related incidents were reported in a tertiary referral university hospital (', '', '', '', '', 'the challenge of treating diabetes in this section of population is to avoid hypoglycemia.', '', '', 'the anterior cervical microforaminotomy ( acmf ) technique involves not', '', '', 'background : grid cells in the medial entorhinal cortex ( mec )', '', 'lung carcinoma is the most common cause of cancer mortality world - wide. adeno', '', 'multiple sclerosis ( ms ) is one of the most frequent diseases of the central', 'dry eye is a multifactorial disorder of the ocular surface characterized by symptoms of', 'objective : a resurgence in the research of 2 agonists for sed', 'linagliptin ( tradjenta, boehringer ingel', '', '', '', 'the ultimate goal of periodontal therapy is the regeneration of periodontal tissues that have been destroyed', '', '', '', '', 'background : the theme of infanticide has received increasing attention from historians in recent years.', '', 'the aim of the present study was to determine the release rate of biocide - free anti', '', '', '', '', '', '', '', '', 'objective : the present study investigated the effects of unilateral vestibular neuritis on the functional', '', '', '', '', 'measles virus ( mv ) is a highly contagious acute viral', '', 'escrt - iii and vacuolar protein sorting ( v', 'meta - analyses of epidemiological surveys have reported that myopia is a risk factor for', '', '', 'the emergence of secondary - structure elements constitutes an early event in the chronology of folding', '', '', 'cardiovascular diseases ( cvd ) are the main cause of diabetes - related morbid', '', '', 'ruthenium compounds belong to the most promising candidates of non - platinum containing metal complex', '', '', '', 'the emergence of quinolone resistance in fecal e. coli of', 'conventional lentiviral vectors based on hiv-1 establish permanent genetic modification of target cells', '', '', '', 'background : cardiovascular disease is the fourth most common cause of death in dogs and one of the most', 'the escherichia coli groe chaperonin system facilitates protein', '', 'the gene of cancer / testis antigens ( cta ) such as', '', '', '', 'src family kinases ( sfks ) are a', 'background : the study was conducted to clarify the caring self - efficacy concept among pediatric', '', 'this study consists of elderly ( 65 years of age ) type 2 diabetic subjects who are', '', '', '', '', '', 'enhancing the binding potency of carbohydrate inhibitors of protein carbohydrate interactions is an', '', '', '', '', '', 'we consider the case of intercrosses among pairs of taxa, consider only autosom', '', '', '', '', 'ovcf is a structural change in ovcf. the presence', 'cross - linking gangliosides are sialic acid containing glycosphin', 'objective : collapsing comorbid diseases into a single scale provides an', 'colorectal polyps are histologically classified as neoplastic or', '', '', '', 'apoptosis is a distinct form of cell death characterized by a series', '', '', '', '', 'chemoprevention utilizes appropriate pharmacological agents, consumed in diverse forms like', 'fabry disease ( fd ) is an x - linked recess', '', '', \"background : the screening india's twin epidemic study was conducted in eight states maharash\", 'intermediate restorative material ( irm ) has addressed some drawbacks including moisture', '', '', '', '', '', '', '', '', '', '', '', 'background : forest walking has been reported as a novel form of therapy. however,', 'hdacis are effective drugs in the treatment of a variety of cancers,', '', '', '', '', 'the generation of global enh, global cypher, cy', 'the 5-year survival rate of the treated patients was only about 20%. the treatment of osteos', '', '', '', '', 'objective : the effectiveness of imt in patients with chronic obstructive pulmonary disease', '', '', 'microwave imaging has recently emerged as one of the most promising non - invasive imaging modalities', '', 'the horse was fed at 06:00, 16:00, and 22:00 hours,', '', 'ovarian cancer is the most lethal and second most common gynecologic', '', '', 'acinetobacter baumannii is a glucose non - fermentative gram', 'a medullary population of basophils with few granules,', 'background : the existence of conserved longevity pathways may seem counterintuitive from an evolutionary perspective', 'the 5-year survival rate of patients with larc has improved in recent years, mainly', '', '', 'background : interpersonal conflicts are emotionally difficult and require regulation of negative affect and behavior for successful resolution', 'vascular endothelial cells ( ecs ) form the inner lining', '', '', '', 'the mortality curve in hemophiliacs over the years has a biphasic', 'the marineosin ( mar ) gene cluster is a family of linear and cycl', '', 'the pulmonary toxicity of airborne nanomaterials involves exposing animals to nanomaterials by', 'immunization of human dendritic cells ( dcs ) is', '', 'nocturia is a prevalent condition of waking to void during the night that is', '', '', 'problem - based learning ( pbl ) has its roots in medical education programs', 'background : prostate cancer is the fifth most commonly diagnosed malignancy in korean men', '', '', 'the fluorescence lifetimes are monoexponential, and the fluorescence lifetime is', '', '', '', '', '', '', '', 'adnexa refer to the anatomical area adjacent to the uterus', 'chronic constrictive injury ( cci ) has been the common neuropathic pain model', '', '', '', 'objective : the purpose of the present study was to evaluate the radiographic results of mis -', '', '', 'background : schizophrenia is often preceded by nonspecific changes in behavior, emotional state,', '', 'new zealand white rabbits of both sexes aged between 4 and 6 months', 'acculturation is associated with lower meal frequency, more frequent snacking, and', '', '', 'peptide synthesis was performed by peptide synthesis : benzotriazole', '', 'alport syndrome ( as ) is a hereditary disorder characterized by a combination', '', '', 'migraine is a disabling neurological condition that is commonly observed to occur in an episodic manner', '', '', 'autism spectrum disorders ( asd ) are a complex group of severe neurodevelopmental disorders that', \"parkinson's disease ( pd ) is a neurodegenerative disorder\", '', '', '', '', '', '', '', '', '', '', '', 'objective : the purpose of this study was to determine if dancers demonstrated better static single', '', '', '', '', \"objective : this study measured the impact of different levels of social support on patients'self\", '', '', '', '', '', '', 'the results of a retrospective study of adenomyosis and bleeding after la', '', 'pre - mrna splicing is a highly regulated process', 'the method for this investigation was approved by our institutional review board ( irb ) for', '', '', 'background : adolescent reproductive health ( arh ) outcomes in africa are', '', 'recruitment, which began in january 1999 and ended in may 2001, took place', '', '', 'home - based pulmonary rehabilitation ( pr ) for patients with copd is characterized', '', '', '', '', '', '', '', 'a prospective clinical trial has identified a similar relationship between the location of the implant -', '', 'cryptosporidium parvum is one of the most important causal agents of human diarrheas during', '', '', '', '', '', 'background : pharmacodiagnostic ( theranostic ) applications can simplify the', 'weight loss is a significant adipokine, adiponectin', '', 'objective : the aim of the present study was to evaluate the effects of cigarette smoking on the', '']</td>\n",
              "    </tr>\n",
              "    <tr>\n",
              "      <td>10</td>\n",
              "      <td>1.319000</td>\n",
              "      <td>1.194219</td>\n",
              "      <td>['', 'primary outcome was bmi z - score change at the end of intervention ( six', '', '', '', 'ac dielectrophoresis ( dep ) is the motion of a', 'the aim of this study was to employ needleless electrospinning for the preparation of multi', 'owing to demographic aging, dementia has been identified as a major economic and societal', 'chronic obstructive pulmonary disease ( copd ) is one of the most prevalent', 'pigment epithelium derived factor ( pedf ) has emerged as a potential', '', '', 's. granulatus, which belongs to the family of boletacea', 'odontoblasts are the principal mineralized tissue of teeth. the odon', '', 'objective : in 2007, our group published a systematic review combining 27,881', '', 'background : we analysed 11,555 single nucleotide polymorphism (', '', '', 'a full length tau is a 3943-residue peptide with', 'elisa kits for the determination of insulin were purchased from alpco diagnostics', '', '', 'the auditory brainstem responses ( abr ) are characterized by the following four phases', '', '', 'thrombosed native avfs underwent percutaneous restoration for 20 episodes of', '', '', '', 'objective : to describe treatment patterns and estimate health care resource utilization and costs among japanes', '', 'objective : the knowledge, attitude and practice ( kap ) of youths about smoking', '', 'the cocrystalline examples presented herein will possess the following criteria : ( 1 ) an', '', '', 'gender has been determined from pelvis, skull, and long bones, with assessment of', 'background : cnas are variations in the genome that result in either gain or loss', '', '', 'emergence of the a / h1n109 influenza virus in 2009 resulted', '', '', 'background : healthcare workers are considered to be at particular risk of developing ageist attitudes because they are', '', 'anesthesiologists and anesthesia registrars voluntarily reported complications and critical incidents', '', '', '', '', 'the challenge of treating diabetes in this section of population is to avoid hypoglycemia.', '', '', 'the anterior cervical microforaminotomy ( acmf ) technique involves not', '', '', 'background : grid cells in the medial entorhinal cortex ( mec )', '', 'lung carcinoma is the most common cause of cancer mortality world - wide. adeno', '', 'multiple sclerosis ( ms ) is one of the most frequent diseases of the central', 'dry eye is a multifactorial disorder of the ocular surface characterized by symptoms of', 'objective : a resurgence in the research of 2 agonists for sed', 'linagliptin ( tradjenta, boehringer ingel', '', '', '', 'the ultimate goal of periodontal therapy is the regeneration of periodontal tissues that have been destroyed', '', '', '', '', 'background : the theme of infanticide has received increasing attention from historians in recent years.', '', 'the aim of the present study was to determine the release rate of biocide - free anti', '', '', '', '', '', '', '', '', 'objective : the present study investigated the effects of unilateral vestibular neuritis on the functional', '', '', '', '', 'measles virus ( mv ) is a highly contagious acute viral', '', 'escrt - iii and vacuolar protein sorting ( v', 'meta - analyses of epidemiological surveys have reported that myopia is a risk factor for', '', '', 'the emergence of secondary - structure elements constitutes an early event in the chronology of folding', '', '', 'cardiovascular diseases ( cvd ) are the main cause of diabetes - related morbid', '', '', 'ruthenium compounds belong to the most promising candidates of non - platinum containing metal complex', '', '', '', 'the emergence of quinolone resistance in fecal e. coli of', 'conventional lentiviral vectors based on hiv-1 establish permanent genetic modification of target cells', '', '', '', 'background : cardiovascular disease is the fourth most common cause of death in dogs and one of the most', 'the escherichia coli groe chaperonin system facilitates protein', '', 'the gene of cancer / testis antigens ( cta ) such as', '', '', '', 'src family kinases ( sfks ) are a', 'background : the study was conducted to clarify the caring self - efficacy concept among pediatric', '', 'this study consists of elderly ( 65 years of age ) type 2 diabetic subjects who are', '', '', '', '', '', 'enhancing the binding potency of carbohydrate inhibitors of protein carbohydrate interactions is an', '', '', '', '', '', 'we consider the case of intercrosses among pairs of taxa, consider only autosom', '', '', '', '', 'ovcf is a structural change in ovcf. the presence', 'cross - linking gangliosides are sialic acid containing glycosphin', 'objective : collapsing comorbid diseases into a single scale provides an', 'colorectal polyps are histologically classified as neoplastic or', '', '', '', 'apoptosis is a distinct form of cell death characterized by a series', '', '', '', '', 'chemoprevention utilizes appropriate pharmacological agents, consumed in diverse forms like', 'fabry disease ( fd ) is an x - linked recess', '', '', \"background : the screening india's twin epidemic study was conducted in eight states maharash\", 'intermediate restorative material ( irm ) has addressed some drawbacks including moisture', '', '', '', '', '', '', '', '', '', '', '', 'background : forest walking has been reported as a novel form of therapy. however,', 'hdacis are effective drugs in the treatment of a variety of cancers,', '', '', '', '', 'the generation of global enh, global cypher, cy', 'the 5-year survival rate of the treated patients was only about 20%. the treatment of osteos', '', '', '', '', 'objective : the effectiveness of imt in patients with chronic obstructive pulmonary disease', '', '', 'microwave imaging has recently emerged as one of the most promising non - invasive imaging modalities', '', 'the horse was fed at 06:00, 16:00, and 22:00 hours,', '', 'ovarian cancer is the most lethal and second most common gynecologic', '', '', 'acinetobacter baumannii is a glucose non - fermentative gram', 'a medullary population of basophils with few granules,', 'background : the existence of conserved longevity pathways may seem counterintuitive from an evolutionary perspective', 'the 5-year survival rate of patients with larc has improved in recent years, mainly', '', '', 'background : interpersonal conflicts are emotionally difficult and require regulation of negative affect and behavior for successful resolution', 'vascular endothelial cells ( ecs ) form the inner lining', '', '', '', 'the mortality curve in hemophiliacs over the years has a biphasic', 'the marineosin ( mar ) gene cluster is a family of linear and cycl', '', 'the pulmonary toxicity of airborne nanomaterials involves exposing animals to nanomaterials by', 'immunization of human dendritic cells ( dcs ) is', '', 'nocturia is a prevalent condition of waking to void during the night that is', '', '', 'problem - based learning ( pbl ) has its roots in medical education programs', 'background : prostate cancer is the fifth most commonly diagnosed malignancy in korean men', '', '', 'the fluorescence lifetimes are a function of viscosity, and the flu', '', '', '', '', '', '', '', 'adnexa refer to the anatomical area adjacent to the uterus', 'chronic constrictive injury ( cci ) has been the common neuropathic pain model', '', '', '', 'objective : the purpose of the present study was to evaluate the radiographic results of mis -', '', '', 'background : schizophrenia is often preceded by nonspecific changes in behavior, emotional state,', '', 'new zealand white rabbits of both sexes aged between 4 and 6 months', 'acculturation is associated with lower meal frequency, more frequent snacking, and', '', '', 'peptide synthesis was performed by peptide synthesis : benzotriazole', '', 'alport syndrome ( as ) is a hereditary disorder characterized by a combination', '', '', 'migraine is a disabling neurological condition that is commonly observed to occur in an episodic manner', '', '', 'autism spectrum disorders ( asd ) are a complex group of severe neurodevelopmental disorders that', \"parkinson's disease ( pd ) is a neurodegenerative disorder\", '', '', '', '', '', '', '', '', '', '', '', 'objective : the purpose of this study was to determine if dancers demonstrated better static single', '', '', '', '', \"objective : this study measured the impact of different levels of social support on patients'self\", '', '', '', '', '', '', 'the results of a retrospective study of adenomyosis and bleeding after la', '', 'pre - mrna splicing is a highly regulated process', 'the method for this investigation was approved by our institutional review board ( irb ) for', '', '', 'background : adolescent reproductive health ( arh ) outcomes in africa are', '', 'recruitment, which began in january 1999 and ended in may 2001, took place', '', '', 'home - based pulmonary rehabilitation ( pr ) for patients with copd is characterized', '', '', '', '', '', '', '', 'a prospective clinical trial has identified a similar relationship between the location of the implant -', '', 'dna topoisomerases ( topii ) are enzy', '', '', '', '', '', 'background : pharmacodiagnostic ( theranostic ) applications can simplify the', 'weight loss is a significant adipokine, adiponectin', '', 'objective : the aim of the present study was to evaluate the effects of cigarette smoking on the', '']</td>\n",
              "    </tr>\n",
              "  </tbody>\n",
              "</table><p>"
            ],
            "text/plain": [
              "<IPython.core.display.HTML object>"
            ]
          },
          "metadata": {},
          "output_type": "display_data"
        },
        {
          "data": {
            "text/plain": [
              "TrainOutput(global_step=15000, training_loss=1.4051358072916666, metrics={'train_runtime': 8905.0847, 'train_samples_per_second': 3.369, 'train_steps_per_second': 1.684, 'total_flos': 4.041221603328e+16, 'train_loss': 1.4051358072916666, 'epoch': 10.0})"
            ]
          },
          "execution_count": 11,
          "metadata": {},
          "output_type": "execute_result"
        }
      ],
      "source": [
        "trainer = Seq2SeqTrainer(\n",
        "    model=model,\n",
        "    args=training_args,\n",
        "    train_dataset=tokenized_datasets[\"train\"],\n",
        "    eval_dataset=tokenized_datasets[\"validation\"],\n",
        "    tokenizer=tokenizer,\n",
        "    compute_metrics=compute_metrics\n",
        ")\n",
        "\n",
        "# Train the model\n",
        "trainer.train()"
      ]
    },
    {
      "cell_type": "code",
      "execution_count": null,
      "metadata": {
        "colab": {
          "base_uri": "https://localhost:8080/",
          "height": 161
        },
        "id": "OchD-SoQa9wj",
        "outputId": "48620a57-9336-4772-d6aa-306f18778588"
      },
      "outputs": [
        {
          "data": {
            "text/html": [
              "\n",
              "    <div>\n",
              "      \n",
              "      <progress value='150' max='150' style='width:300px; height:20px; vertical-align: middle;'></progress>\n",
              "      [150/150 01:31]\n",
              "    </div>\n",
              "    "
            ],
            "text/plain": [
              "<IPython.core.display.HTML object>"
            ]
          },
          "metadata": {},
          "output_type": "display_data"
        },
        {
          "name": "stderr",
          "output_type": "stream",
          "text": [
            "Trainer is attempting to log a value of \"['the birth of a premature infant and the following neonatal intensive care unit ( nicu', 'we propose that a definition of health ( nor treatment ) is regulated in a similar', '', '', 'objective : the purpose of this review is to present updated data available on the efficacy', 'objective : the aim of this study was to investigate the effect of varied protein - energy combinations', 'tcr mice ( 21 ) were mated with rag2 mice ( 23', 'background : sprayed refuges are a compromise between sprayed and unsprayed refuge', 'the hypnotic assessment method was based on the prolongation of sleep induced by pen', 'succinic acid is classified as the most promising chemical among 12 biobased chemicals by the u', '', 'this review was based on a systematic comprehensive search of six databases : ovid', '', '', '', 'axonal excitability is a major determinant of the treatment regimen required to', 'neurological soft signs ( nss ) have long been considered one of the functional features (', 'renal transplantation is the treatment of choice for patients who suffer end - stage renal disease (', '', '', '', '', '', '', '', '', '', '', '', 'objective : circulating immune complexes are a novel class of tumor markers with diagnostic potential', '', '', '', 'neonatal sprague - dawley rats ( seven days old ) together', 'preeclampsia / eclampsia ( pe )', 'background tmod1 mice used in this study contained a cardiac - restricted -my', 'pneumonia causes almost 1 in 5 under - five deaths worldwide and is responsible for more than 2 million', '', '', '', 'the therapeutic efficacy of nu-3 against pulmonary pseudomonas aeruginos', 'the aim of this study is to develop new nano - structured drug - delivery systems with industrial', '', 'the superior semicircular canal dehiscence ( sscd ) syndrome was', '', 'the prevention and treatment of ovarian hyperstimulation syndrome ( ohss', '', '', 'background : substance and alcohol dependency were considered as symptoms of personality disorders ( pds', 'objective : to evaluate the relative importance of different muscle actions in a given sporting movement,', 'heart failure ( hf ) can result from cardiac overload or injury as well as from', 'subjects with chronic insomnia have a higher risk for hypertension [ 13 ] and u', '', 'ahd2.0 will be more efficient and powerful for the systems biology studies of plant hormone functions', 'the chromosomal and genetic abnormalities detected in lung adenocarcinom', '', 'the aim of the present work was to isolate novel cdna sequences with important functional', '', 'the aim of this review is to discuss the various methods of nanogel synthesis and an overview of', '', '', '', 'fibro - osseous lesions ( fol ) are a poorly defined group', '', '', '', 'background : reservation - based native americans live in pervasively adverse social and physical', 'phakic intraocular lens ( piol ) provides internal compensation of the dysfunction', '', '', '', '', 'background : estimating the size of a high risk population in the society is a very', '', 'we will discuss the neuroprotective and neurotoxic effects of hydrogen sulfide (', 'the amyloid- ( a ) peptide is believed to play a key', '', 'the aim of this study is to investigate the effect of four different occlusion schemes and different', '', 'the bvdv gbk_e strain is an adventitious b', '', 'parkinson disease ( pd ) is a progressive neurodegenerative disorder with widely', 'the data presented are based on the retrieval of relevant medical literature by searching pubmed with the', 'endothelial mechanobiology of the vascular system can be separated into cell mechanic', 'self - esteem is a psychological phenomenon that has a definite effect on the emotional', '', '', 'the sma isomers are governed by an ultrafast excited - state intra', '', 'ferromagnetic ( fm ) graphene with high magnetization is', '', '', 'ulcerative colitis is a chronic inflammatory disease of the large intestine. it', '', '', '', 'background : 3.9%-16% of patients with pancreatic cancer ( paca )', 'the arylomycin family of natural products are potent inhibitors of spase', '', 'the vast amount of digital medical information that has now accumulated in electronic medical records ( em', '', '', '', 'the sensitivity of micrornas ( mirnas ) is a significant', '', '', 'objective : to describe the extent and pattern of cognitive impairment and the psychological status in all patients of', '', 'objective : the aim of this study was to compare the effects of five weeks of hiit or', 'gender - specific implants are a common - common - - - -', '', '', 'background : in a contemporary health - care environment characterized by rapidly changing developments and relentless', 'synthesis of metal nanoparticles with the help of plant extracts is an emerging field of', '', '', '', 'intimate partner violence ( ipv ) is an entrenched public health and social problem', 'background : the development of simple creatinine - based equations to estimate kidney function', \"alzheimer's disease ( ad ) is the most common cause of\", '', 'background : a comprehensive gene set analysis of the differential expression results was performed using the implementation provided', '', 'background : prescription drugs are becoming the drugs of choice for adolescents and young adults with a reported', 'the aim of this study is to compare self - care behaviors training, acupressure', 'the kca1.1-cav3.2 complex is a complex with high voltage - activate', '', '', '', 'this paper will discuss progress in using novel cellular reprogramming techniques to treat rb', '', 'inflammatory bowel disease ( ibd ) is a chronic and multifactorial', '', '', '', 'we investigated the effects of pir - ls in chemoresistance to the', '', 'birch pollen allergy is the result of initial sensitization to the major birch', '', '', 'early diagnosis of rheumatoid arthritis ( ra ) is', '', '', 'the aim of this study is to experimentally explore genetic redundancy in yeast glycolysis by cumulative', 'the aim of this study was to assess the distinguishing cytomorphological features of parathyroid', '', '', '', '', 'functional bowel disorders, including irritable bowel syndrome ( ibs )', '', '', '', '', '', '', '', '', 'objective : this study was a population - based multiethnic sample of cent', 'the aim of the study was to investigate the pediatricians approach to cough, such as their', '', 'the experimental protocol for the pharmacological screening on rats was done with an institutional animal ethics committee', '', 'brain abscesses arise from a contiguous focus of infection, a direct', '', '', '', 'inflammatory bowel diseases ( ibd ) is a result of several overlapping', '', '', '', 'the aim of this article is to review published numerical cosmological calculations addressing problems from the very', 'intraarterial digital subtraction angiography ( ia - ds', '', '', '', '', '', 'data of subjects participating in the third national health and nutritional examination survey 19881994 ( nhan', '', '', 'ssi is one of the most common nosocomial infections, with', '', '', 'the hydroxylation pathway is mediated partly via the egln hydroxylases', '', 'objective : to evaluate functional and anatomical results of intravitreal ranibizumab', 'we have been engaged in the development of novel hiv-1 protease inhibitors since 1997', '', 'background : in developing countries, congenital heart disease ( chd ) is', '', 'the human jurkat t cell line was maintained in rpmi 1640 medium supplemente', '', '', '', '', '', '', '', '', 'the hydrodesulfurization process is the established method used in some industrial technologies to remove organic sulfur', 'map is a chronic debilitating disease in ruminants that is characterized by', '', 'early detection of metastasis is one of the aims of follow - up examination in', 'trps are defined as tender spots in discrete taut bands of hardened muscle', '', '', '', 'twenty - eight male new zealand white rabbits weighing 2.5 - 3 kg', '', '', 'formalin - fixed, paraffin - embedded ( ffpe ) tumor', '', '', '', '', '', '', '', '', '', 'the philosophy of chiropractic emerged from an early postmodern worldview with a unique and very modern sense', '', '', '', '', 'dendritic cells ( dcs ) are potent antigen presenting cells', '', 'the presence of vre in food samples is the result of increased use of antibiotics in modern farm', '', '', '', 'objective : to identify the anesthetic considerations in techniques of hepatic', 'the international union of pure and applied chemistry ( iupac ) project of collection', 'premenstrual syndrome ( pms ) is a common disorder of young and middle', '', 'otosociology is a discipline dedicated to the study, intervention, and prevention', '', '', '', '', 'neuroepithelial stem cells ( nscs ) are the primary cell types', '', '', '', 'the aim of this study was to analyze the efficacy and the drug interactions between curcumin', '', '', '', 'amoebic liver abscess ( ala ) is the most common extra', '', '', '', 'the presence of surface - located phosphatases ( ppps ),', '', '', 'the electrical transport through nanoscale quantum systems such as a single quantum dot, multiple quantum', '', '', 'the data file of recommendations by pbac was created by abstracting data from the pbac', '', '', 'the study protocol has been previously described in detail ( 6,7 ). in brief,', '', 'background : colorectal cancer ( crc ) remains the second leading cause of cancer', '', 'endothelial dysfunction is an early predictor of cardiovascular disease, also referred to', '', '', 'the effect of cla supplementation on the nutritional status of copd patients has been demonstrated in previous', '', '', 'the cinchona ( quina - quina ) tree is', '', 'data were obtained from the finnish national prescription register and special reimbursement register, maintained by the', '', 'background : a comparative lexical analysis of word counts ( specifically, he', 'a study conducted on tunisian women with gestational diabetes mellitus (', '', '', '', '', 'polysomnography ( psg ) was included randomly in the study protocol in sept', '', 'objective : the purpose of this case - control study was to determine the effect of serum 25', '', 'urbanization is a growing health problem in non - endemic areas because of population movements', '', 'bacterial infections as well as the spread of antibiotic resistance are serious public health problems in hospital and community', '', 'background : human primary cell cultures and cell lines have become fundamental tools for basic research in numerous life', '', 'sensitivity of results as compared to argminton elasticity on import variable of different', '', '', '', '', '', 'the alkylation of 4-aminopyridine ( 4ap ) represents an important', 'left atrium ( la ) plays a major role in left ventricle performance ;']\" of type <class 'list'> for key \"eval/pred\" as a scalar. This invocation of Tensorboard's writer.add_scalar() is incorrect so we dropped this attribute.\n"
          ]
        },
        {
          "name": "stdout",
          "output_type": "stream",
          "text": [
            "{'eval_loss': 1.2174769639968872, 'eval_pred': ['the birth of a premature infant and the following neonatal intensive care unit ( nicu', 'we propose that a definition of health ( nor treatment ) is regulated in a similar', '', '', 'objective : the purpose of this review is to present updated data available on the efficacy', 'objective : the aim of this study was to investigate the effect of varied protein - energy combinations', 'tcr mice ( 21 ) were mated with rag2 mice ( 23', 'background : sprayed refuges are a compromise between sprayed and unsprayed refuge', 'the hypnotic assessment method was based on the prolongation of sleep induced by pen', 'succinic acid is classified as the most promising chemical among 12 biobased chemicals by the u', '', 'this review was based on a systematic comprehensive search of six databases : ovid', '', '', '', 'axonal excitability is a major determinant of the treatment regimen required to', 'neurological soft signs ( nss ) have long been considered one of the functional features (', 'renal transplantation is the treatment of choice for patients who suffer end - stage renal disease (', '', '', '', '', '', '', '', '', '', '', '', 'objective : circulating immune complexes are a novel class of tumor markers with diagnostic potential', '', '', '', 'neonatal sprague - dawley rats ( seven days old ) together', 'preeclampsia / eclampsia ( pe )', 'background tmod1 mice used in this study contained a cardiac - restricted -my', 'pneumonia causes almost 1 in 5 under - five deaths worldwide and is responsible for more than 2 million', '', '', '', 'the therapeutic efficacy of nu-3 against pulmonary pseudomonas aeruginos', 'the aim of this study is to develop new nano - structured drug - delivery systems with industrial', '', 'the superior semicircular canal dehiscence ( sscd ) syndrome was', '', 'the prevention and treatment of ovarian hyperstimulation syndrome ( ohss', '', '', 'background : substance and alcohol dependency were considered as symptoms of personality disorders ( pds', 'objective : to evaluate the relative importance of different muscle actions in a given sporting movement,', 'heart failure ( hf ) can result from cardiac overload or injury as well as from', 'subjects with chronic insomnia have a higher risk for hypertension [ 13 ] and u', '', 'ahd2.0 will be more efficient and powerful for the systems biology studies of plant hormone functions', 'the chromosomal and genetic abnormalities detected in lung adenocarcinom', '', 'the aim of the present work was to isolate novel cdna sequences with important functional', '', 'the aim of this review is to discuss the various methods of nanogel synthesis and an overview of', '', '', '', 'fibro - osseous lesions ( fol ) are a poorly defined group', '', '', '', 'background : reservation - based native americans live in pervasively adverse social and physical', 'phakic intraocular lens ( piol ) provides internal compensation of the dysfunction', '', '', '', '', 'background : estimating the size of a high risk population in the society is a very', '', 'we will discuss the neuroprotective and neurotoxic effects of hydrogen sulfide (', 'the amyloid- ( a ) peptide is believed to play a key', '', 'the aim of this study is to investigate the effect of four different occlusion schemes and different', '', 'the bvdv gbk_e strain is an adventitious b', '', 'parkinson disease ( pd ) is a progressive neurodegenerative disorder with widely', 'the data presented are based on the retrieval of relevant medical literature by searching pubmed with the', 'endothelial mechanobiology of the vascular system can be separated into cell mechanic', 'self - esteem is a psychological phenomenon that has a definite effect on the emotional', '', '', 'the sma isomers are governed by an ultrafast excited - state intra', '', 'ferromagnetic ( fm ) graphene with high magnetization is', '', '', 'ulcerative colitis is a chronic inflammatory disease of the large intestine. it', '', '', '', 'background : 3.9%-16% of patients with pancreatic cancer ( paca )', 'the arylomycin family of natural products are potent inhibitors of spase', '', 'the vast amount of digital medical information that has now accumulated in electronic medical records ( em', '', '', '', 'the sensitivity of micrornas ( mirnas ) is a significant', '', '', 'objective : to describe the extent and pattern of cognitive impairment and the psychological status in all patients of', '', 'objective : the aim of this study was to compare the effects of five weeks of hiit or', 'gender - specific implants are a common - common - - - -', '', '', 'background : in a contemporary health - care environment characterized by rapidly changing developments and relentless', 'synthesis of metal nanoparticles with the help of plant extracts is an emerging field of', '', '', '', 'intimate partner violence ( ipv ) is an entrenched public health and social problem', 'background : the development of simple creatinine - based equations to estimate kidney function', \"alzheimer's disease ( ad ) is the most common cause of\", '', 'background : a comprehensive gene set analysis of the differential expression results was performed using the implementation provided', '', 'background : prescription drugs are becoming the drugs of choice for adolescents and young adults with a reported', 'the aim of this study is to compare self - care behaviors training, acupressure', 'the kca1.1-cav3.2 complex is a complex with high voltage - activate', '', '', '', 'this paper will discuss progress in using novel cellular reprogramming techniques to treat rb', '', 'inflammatory bowel disease ( ibd ) is a chronic and multifactorial', '', '', '', 'we investigated the effects of pir - ls in chemoresistance to the', '', 'birch pollen allergy is the result of initial sensitization to the major birch', '', '', 'early diagnosis of rheumatoid arthritis ( ra ) is', '', '', 'the aim of this study is to experimentally explore genetic redundancy in yeast glycolysis by cumulative', 'the aim of this study was to assess the distinguishing cytomorphological features of parathyroid', '', '', '', '', 'functional bowel disorders, including irritable bowel syndrome ( ibs )', '', '', '', '', '', '', '', '', 'objective : this study was a population - based multiethnic sample of cent', 'the aim of the study was to investigate the pediatricians approach to cough, such as their', '', 'the experimental protocol for the pharmacological screening on rats was done with an institutional animal ethics committee', '', 'brain abscesses arise from a contiguous focus of infection, a direct', '', '', '', 'inflammatory bowel diseases ( ibd ) is a result of several overlapping', '', '', '', 'the aim of this article is to review published numerical cosmological calculations addressing problems from the very', 'intraarterial digital subtraction angiography ( ia - ds', '', '', '', '', '', 'data of subjects participating in the third national health and nutritional examination survey 19881994 ( nhan', '', '', 'ssi is one of the most common nosocomial infections, with', '', '', 'the hydroxylation pathway is mediated partly via the egln hydroxylases', '', 'objective : to evaluate functional and anatomical results of intravitreal ranibizumab', 'we have been engaged in the development of novel hiv-1 protease inhibitors since 1997', '', 'background : in developing countries, congenital heart disease ( chd ) is', '', 'the human jurkat t cell line was maintained in rpmi 1640 medium supplemente', '', '', '', '', '', '', '', '', 'the hydrodesulfurization process is the established method used in some industrial technologies to remove organic sulfur', 'map is a chronic debilitating disease in ruminants that is characterized by', '', 'early detection of metastasis is one of the aims of follow - up examination in', 'trps are defined as tender spots in discrete taut bands of hardened muscle', '', '', '', 'twenty - eight male new zealand white rabbits weighing 2.5 - 3 kg', '', '', 'formalin - fixed, paraffin - embedded ( ffpe ) tumor', '', '', '', '', '', '', '', '', '', 'the philosophy of chiropractic emerged from an early postmodern worldview with a unique and very modern sense', '', '', '', '', 'dendritic cells ( dcs ) are potent antigen presenting cells', '', 'the presence of vre in food samples is the result of increased use of antibiotics in modern farm', '', '', '', 'objective : to identify the anesthetic considerations in techniques of hepatic', 'the international union of pure and applied chemistry ( iupac ) project of collection', 'premenstrual syndrome ( pms ) is a common disorder of young and middle', '', 'otosociology is a discipline dedicated to the study, intervention, and prevention', '', '', '', '', 'neuroepithelial stem cells ( nscs ) are the primary cell types', '', '', '', 'the aim of this study was to analyze the efficacy and the drug interactions between curcumin', '', '', '', 'amoebic liver abscess ( ala ) is the most common extra', '', '', '', 'the presence of surface - located phosphatases ( ppps ),', '', '', 'the electrical transport through nanoscale quantum systems such as a single quantum dot, multiple quantum', '', '', 'the data file of recommendations by pbac was created by abstracting data from the pbac', '', '', 'the study protocol has been previously described in detail ( 6,7 ). in brief,', '', 'background : colorectal cancer ( crc ) remains the second leading cause of cancer', '', 'endothelial dysfunction is an early predictor of cardiovascular disease, also referred to', '', '', 'the effect of cla supplementation on the nutritional status of copd patients has been demonstrated in previous', '', '', 'the cinchona ( quina - quina ) tree is', '', 'data were obtained from the finnish national prescription register and special reimbursement register, maintained by the', '', 'background : a comparative lexical analysis of word counts ( specifically, he', 'a study conducted on tunisian women with gestational diabetes mellitus (', '', '', '', '', 'polysomnography ( psg ) was included randomly in the study protocol in sept', '', 'objective : the purpose of this case - control study was to determine the effect of serum 25', '', 'urbanization is a growing health problem in non - endemic areas because of population movements', '', 'bacterial infections as well as the spread of antibiotic resistance are serious public health problems in hospital and community', '', 'background : human primary cell cultures and cell lines have become fundamental tools for basic research in numerous life', '', 'sensitivity of results as compared to argminton elasticity on import variable of different', '', '', '', '', '', 'the alkylation of 4-aminopyridine ( 4ap ) represents an important', 'left atrium ( la ) plays a major role in left ventricle performance ;'], 'eval_runtime': 105.7667, 'eval_samples_per_second': 2.836, 'eval_steps_per_second': 1.418, 'epoch': 10.0}\n"
          ]
        },
        {
          "data": {
            "text/plain": [
              "('./fine-tuned-text-summarization-specific-samples/tokenizer_config.json',\n",
              " './fine-tuned-text-summarization-specific-samples/special_tokens_map.json',\n",
              " './fine-tuned-text-summarization-specific-samples/spiece.model',\n",
              " './fine-tuned-text-summarization-specific-samples/added_tokens.json')"
            ]
          },
          "execution_count": 13,
          "metadata": {},
          "output_type": "execute_result"
        }
      ],
      "source": [
        "test_results = trainer.evaluate(tokenized_datasets[\"test\"])\n",
        "print(test_results)\n",
        "\n",
        "# Save the fine-tuned model\n",
        "model.save_pretrained(\"./fine-tuned-text-summarization\")\n",
        "tokenizer.save_pretrained(\"./fine-tuned-text-summarization\")"
      ]
    },
    {
      "cell_type": "code",
      "execution_count": null,
      "metadata": {
        "colab": {
          "base_uri": "https://localhost:8080/"
        },
        "id": "EgwGNAUqsePn",
        "outputId": "89c92196-1f46-412b-ceec-07f12000251c"
      },
      "outputs": [
        {
          "name": "stdout",
          "output_type": "stream",
          "text": [
            "  adding: content/fine-tuned-text-summarization-specific-samples/ (stored 0%)\n",
            "  adding: content/fine-tuned-text-summarization-specific-samples/spiece.model (deflated 48%)\n",
            "  adding: content/fine-tuned-text-summarization-specific-samples/config.json (deflated 62%)\n",
            "  adding: content/fine-tuned-text-summarization-specific-samples/special_tokens_map.json (deflated 85%)\n",
            "  adding: content/fine-tuned-text-summarization-specific-samples/tokenizer_config.json (deflated 94%)\n",
            "  adding: content/fine-tuned-text-summarization-specific-samples/model.safetensors (deflated 9%)\n",
            "  adding: content/fine-tuned-text-summarization-specific-samples/added_tokens.json (deflated 83%)\n",
            "  adding: content/fine-tuned-text-summarization-specific-samples/generation_config.json (deflated 29%)\n"
          ]
        }
      ],
      "source": [
        "!zip -r ./fine-tuned-text-summarization.zip ./fine-tuned-text-summarization"
      ]
    },
    {
      "cell_type": "markdown",
      "metadata": {
        "id": "p0n5DTLmgmyg"
      },
      "source": [
        "## Benchmarking against CompScholar\n"
      ]
    },
    {
      "cell_type": "code",
      "execution_count": null,
      "metadata": {
        "colab": {
          "base_uri": "https://localhost:8080/"
        },
        "id": "3qPzy_C2h_Vz",
        "outputId": "2a503730-06f2-4bf2-a839-92ba4f7dfd28"
      },
      "outputs": [
        {
          "name": "stdout",
          "output_type": "stream",
          "text": [
            "Collecting rouge-score\n",
            "  Downloading rouge_score-0.1.2.tar.gz (17 kB)\n",
            "  Preparing metadata (setup.py) ... \u001b[?25l\u001b[?25hdone\n",
            "Requirement already satisfied: absl-py in /usr/local/lib/python3.11/dist-packages (from rouge-score) (1.4.0)\n",
            "Requirement already satisfied: nltk in /usr/local/lib/python3.11/dist-packages (from rouge-score) (3.9.1)\n",
            "Requirement already satisfied: numpy in /usr/local/lib/python3.11/dist-packages (from rouge-score) (2.0.2)\n",
            "Requirement already satisfied: six>=1.14.0 in /usr/local/lib/python3.11/dist-packages (from rouge-score) (1.17.0)\n",
            "Requirement already satisfied: click in /usr/local/lib/python3.11/dist-packages (from nltk->rouge-score) (8.1.8)\n",
            "Requirement already satisfied: joblib in /usr/local/lib/python3.11/dist-packages (from nltk->rouge-score) (1.4.2)\n",
            "Requirement already satisfied: regex>=2021.8.3 in /usr/local/lib/python3.11/dist-packages (from nltk->rouge-score) (2024.11.6)\n",
            "Requirement already satisfied: tqdm in /usr/local/lib/python3.11/dist-packages (from nltk->rouge-score) (4.67.1)\n",
            "Building wheels for collected packages: rouge-score\n",
            "  Building wheel for rouge-score (setup.py) ... \u001b[?25l\u001b[?25hdone\n",
            "  Created wheel for rouge-score: filename=rouge_score-0.1.2-py3-none-any.whl size=24935 sha256=e755c5e6c1951487b4ec4488f7206b29736e820fb86136aea6d11506673cb0ce\n",
            "  Stored in directory: /root/.cache/pip/wheels/1e/19/43/8a442dc83660ca25e163e1bd1f89919284ab0d0c1475475148\n",
            "Successfully built rouge-score\n",
            "Installing collected packages: rouge-score\n",
            "Successfully installed rouge-score-0.1.2\n"
          ]
        }
      ],
      "source": [
        "!pip install rouge-score"
      ]
    },
    {
      "cell_type": "code",
      "execution_count": null,
      "metadata": {
        "colab": {
          "base_uri": "https://localhost:8080/"
        },
        "id": "6hvIzDVCg_2Y",
        "outputId": "da5155a3-151d-4bb5-95ce-3cfa9b121c42"
      },
      "outputs": [
        {
          "name": "stdout",
          "output_type": "stream",
          "text": [
            "Archive:  /content/fine-tuned-text-summarization-specific-samples-version7_og.zip\n",
            "   creating: content/fine-tuned-text-summarization-specific-samples/\n",
            "  inflating: content/fine-tuned-text-summarization-specific-samples/special_tokens_map.json  \n",
            "  inflating: content/fine-tuned-text-summarization-specific-samples/config.json  \n",
            "  inflating: content/fine-tuned-text-summarization-specific-samples/tokenizer_config.json  \n",
            "  inflating: content/fine-tuned-text-summarization-specific-samples/model.safetensors  \n",
            "  inflating: content/fine-tuned-text-summarization-specific-samples/generation_config.json  \n",
            "  inflating: content/fine-tuned-text-summarization-specific-samples/spiece.model  \n",
            "  inflating: content/fine-tuned-text-summarization-specific-samples/added_tokens.json  \n"
          ]
        }
      ],
      "source": [
        "!unzip ./fine-tuned-text-summarization.zip"
      ]
    },
    {
      "cell_type": "code",
      "execution_count": null,
      "metadata": {
        "colab": {
          "base_uri": "https://localhost:8080/"
        },
        "id": "F_VwOgUr2fxS",
        "outputId": "4f3c28cf-219b-44df-e0a1-6e8e6d66eaac"
      },
      "outputs": [
        {
          "name": "stderr",
          "output_type": "stream",
          "text": [
            "[nltk_data] Downloading package punkt to /root/nltk_data...\n",
            "[nltk_data]   Package punkt is already up-to-date!\n",
            "[nltk_data] Downloading package punkt_tab to /root/nltk_data...\n",
            "[nltk_data]   Package punkt_tab is already up-to-date!\n"
          ]
        },
        {
          "data": {
            "text/plain": [
              "True"
            ]
          },
          "execution_count": 7,
          "metadata": {},
          "output_type": "execute_result"
        }
      ],
      "source": [
        "import pandas as pd\n",
        "import numpy as np\n",
        "from transformers import pipeline, AutoTokenizer, AutoModelForSeq2SeqLM\n",
        "from rouge_score import rouge_scorer\n",
        "from nltk.translate.bleu_score import sentence_bleu, SmoothingFunction\n",
        "import nltk\n",
        "import warnings\n",
        "warnings.filterwarnings(\"ignore\")\n",
        "\n",
        "nltk.download('punkt')\n",
        "nltk.download('punkt_tab')"
      ]
    },
    {
      "cell_type": "code",
      "execution_count": null,
      "metadata": {
        "colab": {
          "base_uri": "https://localhost:8080/"
        },
        "id": "i7CKf3-12sFK",
        "outputId": "7d56f39f-ce94-49e9-989c-d551bfdd7817"
      },
      "outputs": [
        {
          "name": "stderr",
          "output_type": "stream",
          "text": [
            "Device set to use cpu\n"
          ]
        }
      ],
      "source": [
        "tokenizer = AutoTokenizer.from_pretrained(\"/content/content/fine-tuned-text-summarization\")\n",
        "model = AutoModelForSeq2SeqLM.from_pretrained(\"/content/content/fine-tuned-text-summarization\")\n",
        "summarizer = pipeline(\"summarization\", model=model, tokenizer=tokenizer)"
      ]
    },
    {
      "cell_type": "code",
      "execution_count": null,
      "metadata": {
        "id": "mWxHiqt72phO"
      },
      "outputs": [],
      "source": [
        "df = pd.read_csv('/content/Brain Dead CompScholar Dataset.csv')"
      ]
    },
    {
      "cell_type": "code",
      "execution_count": null,
      "metadata": {
        "id": "9PS7Ff1n2pxm"
      },
      "outputs": [],
      "source": [
        "def calculate_rouge(reference, candidate):\n",
        "    scorer = rouge_scorer.RougeScorer(['rouge1', 'rouge2', 'rougeL'], use_stemmer=True)\n",
        "    scores = scorer.score(reference, candidate)\n",
        "    return {\n",
        "        'rouge1': scores['rouge1'].fmeasure,\n",
        "        'rouge2': scores['rouge2'].fmeasure,\n",
        "        'rougeL': scores['rougeL'].fmeasure\n",
        "    }\n",
        "\n",
        "def calculate_bleu(reference, candidate):\n",
        "    smoothie = SmoothingFunction().method1\n",
        "    reference_tokens = nltk.word_tokenize(reference.lower())\n",
        "    candidate_tokens = nltk.word_tokenize(candidate.lower())\n",
        "\n",
        "    return sentence_bleu([reference_tokens], candidate_tokens, smoothing_function=smoothie)\n"
      ]
    },
    {
      "cell_type": "code",
      "execution_count": null,
      "metadata": {
        "colab": {
          "base_uri": "https://localhost:8080/"
        },
        "id": "IJYfGINe20wr",
        "outputId": "9eea7e5a-137e-4d38-b412-ace62734b824"
      },
      "outputs": [
        {
          "name": "stderr",
          "output_type": "stream",
          "text": [
            "Token indices sequence length is longer than the specified maximum sequence length for this model (607 > 512). Running this sequence through the model will result in indexing errors\n"
          ]
        },
        {
          "name": "stdout",
          "output_type": "stream",
          "text": [
            "Processing documents and evaluating...\n",
            "Generating summary for Paper ID: 1\n",
            "Processed Paper ID: 1\n",
            "Generating summary for Paper ID: 2\n",
            "Processed Paper ID: 2\n",
            "Generating summary for Paper ID: 3\n",
            "Processed Paper ID: 3\n",
            "Generating summary for Paper ID: 4\n",
            "Processed Paper ID: 4\n",
            "Generating summary for Paper ID: 5\n",
            "Processed Paper ID: 5\n",
            "Generating summary for Paper ID: 6\n",
            "Processed Paper ID: 6\n",
            "Generating summary for Paper ID: 7\n",
            "Processed Paper ID: 7\n",
            "Generating summary for Paper ID: 8\n",
            "Processed Paper ID: 8\n",
            "Generating summary for Paper ID: 9\n",
            "Processed Paper ID: 9\n",
            "Generating summary for Paper ID: 10\n",
            "Processed Paper ID: 10\n",
            "Generating summary for Paper ID: 11\n",
            "Processed Paper ID: 11\n",
            "Generating summary for Paper ID: 12\n",
            "Processed Paper ID: 12\n",
            "Generating summary for Paper ID: 13\n",
            "Processed Paper ID: 13\n",
            "Generating summary for Paper ID: 14\n",
            "Processed Paper ID: 14\n",
            "Generating summary for Paper ID: 15\n",
            "Processed Paper ID: 15\n",
            "Generating summary for Paper ID: 16\n",
            "Processed Paper ID: 16\n",
            "Generating summary for Paper ID: 17\n",
            "Processed Paper ID: 17\n",
            "Generating summary for Paper ID: 18\n",
            "Processed Paper ID: 18\n",
            "Generating summary for Paper ID: 19\n",
            "Processed Paper ID: 19\n",
            "Generating summary for Paper ID: 20\n",
            "Processed Paper ID: 20\n",
            "Generating summary for Paper ID: 21\n",
            "Processed Paper ID: 21\n",
            "Generating summary for Paper ID: 22\n",
            "Processed Paper ID: 22\n",
            "Generating summary for Paper ID: 23\n",
            "Processed Paper ID: 23\n",
            "Generating summary for Paper ID: 24\n",
            "Processed Paper ID: 24\n",
            "Generating summary for Paper ID: 25\n",
            "Processed Paper ID: 25\n",
            "Generating summary for Paper ID: 26\n",
            "Processed Paper ID: 26\n",
            "Generating summary for Paper ID: 27\n",
            "Processed Paper ID: 27\n",
            "Generating summary for Paper ID: 28\n",
            "Processed Paper ID: 28\n",
            "Generating summary for Paper ID: 29\n",
            "Processed Paper ID: 29\n",
            "Generating summary for Paper ID: 30\n",
            "Processed Paper ID: 30\n",
            "Generating summary for Paper ID: 31\n",
            "Processed Paper ID: 31\n",
            "Generating summary for Paper ID: 32\n",
            "Processed Paper ID: 32\n",
            "Generating summary for Paper ID: 33\n",
            "Processed Paper ID: 33\n",
            "Generating summary for Paper ID: 34\n",
            "Processed Paper ID: 34\n",
            "Generating summary for Paper ID: 35\n",
            "Processed Paper ID: 35\n",
            "Generating summary for Paper ID: 36\n",
            "Processed Paper ID: 36\n",
            "Generating summary for Paper ID: 37\n",
            "Processed Paper ID: 37\n",
            "Generating summary for Paper ID: 38\n",
            "Processed Paper ID: 38\n",
            "Generating summary for Paper ID: 39\n",
            "Processed Paper ID: 39\n",
            "Generating summary for Paper ID: 40\n",
            "Processed Paper ID: 40\n",
            "Generating summary for Paper ID: 41\n",
            "Processed Paper ID: 41\n",
            "Generating summary for Paper ID: 42\n",
            "Processed Paper ID: 42\n",
            "Generating summary for Paper ID: 43\n",
            "Processed Paper ID: 43\n",
            "Generating summary for Paper ID: 44\n",
            "Processed Paper ID: 44\n",
            "Generating summary for Paper ID: 45\n",
            "Processed Paper ID: 45\n",
            "Generating summary for Paper ID: 46\n",
            "Processed Paper ID: 46\n",
            "Generating summary for Paper ID: 47\n",
            "Processed Paper ID: 47\n",
            "Generating summary for Paper ID: 48\n",
            "Processed Paper ID: 48\n",
            "Generating summary for Paper ID: 49\n",
            "Processed Paper ID: 49\n",
            "Generating summary for Paper ID: 50\n",
            "Processed Paper ID: 50\n",
            "Generating summary for Paper ID: 51\n",
            "Processed Paper ID: 51\n",
            "Generating summary for Paper ID: 52\n",
            "Processed Paper ID: 52\n",
            "Generating summary for Paper ID: 53\n",
            "Processed Paper ID: 53\n",
            "Generating summary for Paper ID: 54\n",
            "Processed Paper ID: 54\n",
            "Generating summary for Paper ID: 55\n",
            "Processed Paper ID: 55\n",
            "Generating summary for Paper ID: 56\n",
            "Processed Paper ID: 56\n",
            "Generating summary for Paper ID: 57\n",
            "Processed Paper ID: 57\n",
            "Generating summary for Paper ID: 58\n",
            "Processed Paper ID: 58\n",
            "Generating summary for Paper ID: 59\n",
            "Processed Paper ID: 59\n",
            "Generating summary for Paper ID: 60\n",
            "Processed Paper ID: 60\n",
            "Generating summary for Paper ID: 61\n",
            "Processed Paper ID: 61\n",
            "Generating summary for Paper ID: 62\n",
            "Processed Paper ID: 62\n",
            "Generating summary for Paper ID: 63\n",
            "Processed Paper ID: 63\n",
            "Generating summary for Paper ID: 64\n",
            "Processed Paper ID: 64\n",
            "Generating summary for Paper ID: 65\n",
            "Processed Paper ID: 65\n",
            "Generating summary for Paper ID: 66\n",
            "Processed Paper ID: 66\n",
            "Generating summary for Paper ID: 67\n",
            "Processed Paper ID: 67\n",
            "Generating summary for Paper ID: 68\n",
            "Processed Paper ID: 68\n",
            "Generating summary for Paper ID: 69\n",
            "Processed Paper ID: 69\n",
            "Generating summary for Paper ID: 70\n",
            "Processed Paper ID: 70\n",
            "Generating summary for Paper ID: 71\n",
            "Processed Paper ID: 71\n",
            "Generating summary for Paper ID: 72\n",
            "Processed Paper ID: 72\n",
            "Generating summary for Paper ID: 73\n",
            "Processed Paper ID: 73\n",
            "Generating summary for Paper ID: 74\n",
            "Processed Paper ID: 74\n",
            "Generating summary for Paper ID: 75\n",
            "Processed Paper ID: 75\n",
            "Generating summary for Paper ID: 76\n",
            "Processed Paper ID: 76\n",
            "Generating summary for Paper ID: 77\n",
            "Processed Paper ID: 77\n",
            "Generating summary for Paper ID: 78\n",
            "Processed Paper ID: 78\n",
            "Generating summary for Paper ID: 79\n",
            "Processed Paper ID: 79\n",
            "Generating summary for Paper ID: 80\n",
            "Processed Paper ID: 80\n",
            "Generating summary for Paper ID: 81\n",
            "Processed Paper ID: 81\n",
            "Generating summary for Paper ID: 82\n",
            "Processed Paper ID: 82\n",
            "Generating summary for Paper ID: 83\n",
            "Processed Paper ID: 83\n",
            "Generating summary for Paper ID: 84\n",
            "Processed Paper ID: 84\n",
            "Generating summary for Paper ID: 85\n",
            "Processed Paper ID: 85\n",
            "Generating summary for Paper ID: 86\n",
            "Processed Paper ID: 86\n",
            "Generating summary for Paper ID: 87\n",
            "Processed Paper ID: 87\n",
            "Generating summary for Paper ID: 88\n",
            "Processed Paper ID: 88\n",
            "Generating summary for Paper ID: 89\n",
            "Processed Paper ID: 89\n",
            "Generating summary for Paper ID: 90\n",
            "Processed Paper ID: 90\n",
            "Generating summary for Paper ID: 91\n",
            "Processed Paper ID: 91\n",
            "Generating summary for Paper ID: 92\n",
            "Processed Paper ID: 92\n",
            "Generating summary for Paper ID: 93\n",
            "Processed Paper ID: 93\n",
            "Generating summary for Paper ID: 94\n",
            "Processed Paper ID: 94\n",
            "Generating summary for Paper ID: 95\n",
            "Processed Paper ID: 95\n",
            "Generating summary for Paper ID: 96\n",
            "Processed Paper ID: 96\n",
            "Generating summary for Paper ID: 97\n",
            "Processed Paper ID: 97\n",
            "Generating summary for Paper ID: 98\n",
            "Processed Paper ID: 98\n",
            "Generating summary for Paper ID: 99\n",
            "Processed Paper ID: 99\n",
            "Generating summary for Paper ID: 100\n",
            "Processed Paper ID: 100\n",
            "Generating summary for Paper ID: 101\n",
            "Processed Paper ID: 101\n",
            "Generating summary for Paper ID: 102\n",
            "Processed Paper ID: 102\n",
            "Generating summary for Paper ID: 103\n",
            "Processed Paper ID: 103\n",
            "Generating summary for Paper ID: 104\n",
            "Processed Paper ID: 104\n",
            "Generating summary for Paper ID: 105\n",
            "Processed Paper ID: 105\n",
            "Generating summary for Paper ID: 106\n",
            "Processed Paper ID: 106\n",
            "Generating summary for Paper ID: 107\n",
            "Processed Paper ID: 107\n",
            "Generating summary for Paper ID: 108\n",
            "Processed Paper ID: 108\n",
            "Generating summary for Paper ID: 109\n",
            "Processed Paper ID: 109\n",
            "Generating summary for Paper ID: 110\n",
            "Processed Paper ID: 110\n",
            "Generating summary for Paper ID: 111\n",
            "Processed Paper ID: 111\n",
            "Generating summary for Paper ID: 112\n",
            "Processed Paper ID: 112\n",
            "Generating summary for Paper ID: 113\n",
            "Processed Paper ID: 113\n",
            "Generating summary for Paper ID: 114\n",
            "Processed Paper ID: 114\n",
            "Generating summary for Paper ID: 115\n",
            "Processed Paper ID: 115\n",
            "Generating summary for Paper ID: 116\n",
            "Processed Paper ID: 116\n",
            "Generating summary for Paper ID: 117\n",
            "Processed Paper ID: 117\n",
            "Generating summary for Paper ID: 118\n",
            "Processed Paper ID: 118\n",
            "Generating summary for Paper ID: 119\n",
            "Processed Paper ID: 119\n",
            "Generating summary for Paper ID: 120\n",
            "Processed Paper ID: 120\n",
            "Generating summary for Paper ID: 121\n",
            "Processed Paper ID: 121\n",
            "Generating summary for Paper ID: 122\n",
            "Processed Paper ID: 122\n",
            "Generating summary for Paper ID: 123\n",
            "Processed Paper ID: 123\n",
            "Generating summary for Paper ID: 124\n",
            "Processed Paper ID: 124\n",
            "Generating summary for Paper ID: 125\n",
            "Processed Paper ID: 125\n",
            "Generating summary for Paper ID: 126\n",
            "Processed Paper ID: 126\n",
            "Generating summary for Paper ID: 127\n",
            "Processed Paper ID: 127\n",
            "Generating summary for Paper ID: 128\n",
            "Processed Paper ID: 128\n",
            "Generating summary for Paper ID: 129\n",
            "Processed Paper ID: 129\n",
            "Generating summary for Paper ID: 130\n",
            "Processed Paper ID: 130\n",
            "Generating summary for Paper ID: 131\n",
            "Processed Paper ID: 131\n",
            "Generating summary for Paper ID: 132\n",
            "Processed Paper ID: 132\n",
            "Generating summary for Paper ID: 133\n",
            "Processed Paper ID: 133\n",
            "Generating summary for Paper ID: 134\n",
            "Processed Paper ID: 134\n",
            "Generating summary for Paper ID: 135\n",
            "Processed Paper ID: 135\n",
            "Generating summary for Paper ID: 136\n",
            "Processed Paper ID: 136\n",
            "Generating summary for Paper ID: 137\n",
            "Processed Paper ID: 137\n",
            "Generating summary for Paper ID: 138\n",
            "Processed Paper ID: 138\n",
            "Generating summary for Paper ID: 139\n",
            "Processed Paper ID: 139\n",
            "Generating summary for Paper ID: 140\n",
            "Processed Paper ID: 140\n",
            "Generating summary for Paper ID: 141\n",
            "Processed Paper ID: 141\n",
            "Generating summary for Paper ID: 142\n",
            "Processed Paper ID: 142\n",
            "Generating summary for Paper ID: 143\n",
            "Processed Paper ID: 143\n",
            "Generating summary for Paper ID: 144\n",
            "Processed Paper ID: 144\n",
            "Generating summary for Paper ID: 145\n",
            "Processed Paper ID: 145\n",
            "Generating summary for Paper ID: 146\n",
            "Processed Paper ID: 146\n",
            "Generating summary for Paper ID: 147\n",
            "Processed Paper ID: 147\n",
            "Generating summary for Paper ID: 148\n",
            "Processed Paper ID: 148\n",
            "Generating summary for Paper ID: 149\n",
            "Processed Paper ID: 149\n",
            "Generating summary for Paper ID: 150\n",
            "Processed Paper ID: 150\n",
            "Generating summary for Paper ID: 151\n",
            "Processed Paper ID: 151\n",
            "Generating summary for Paper ID: 152\n",
            "Processed Paper ID: 152\n",
            "Generating summary for Paper ID: 153\n",
            "Processed Paper ID: 153\n",
            "Generating summary for Paper ID: 154\n",
            "Processed Paper ID: 154\n",
            "Generating summary for Paper ID: 155\n",
            "Processed Paper ID: 155\n",
            "Generating summary for Paper ID: 156\n",
            "Processed Paper ID: 156\n",
            "Generating summary for Paper ID: 157\n",
            "Processed Paper ID: 157\n",
            "Generating summary for Paper ID: 158\n",
            "Processed Paper ID: 158\n",
            "Generating summary for Paper ID: 159\n",
            "Processed Paper ID: 159\n",
            "Generating summary for Paper ID: 160\n",
            "Processed Paper ID: 160\n",
            "Generating summary for Paper ID: 161\n",
            "Processed Paper ID: 161\n",
            "Generating summary for Paper ID: 162\n",
            "Processed Paper ID: 162\n",
            "Generating summary for Paper ID: 163\n",
            "Processed Paper ID: 163\n",
            "Generating summary for Paper ID: 164\n",
            "Processed Paper ID: 164\n",
            "Generating summary for Paper ID: 165\n",
            "Processed Paper ID: 165\n",
            "Generating summary for Paper ID: 166\n",
            "Processed Paper ID: 166\n",
            "Generating summary for Paper ID: 167\n",
            "Processed Paper ID: 167\n",
            "Generating summary for Paper ID: 168\n",
            "Processed Paper ID: 168\n",
            "Generating summary for Paper ID: 169\n",
            "Processed Paper ID: 169\n",
            "Generating summary for Paper ID: 170\n",
            "Processed Paper ID: 170\n",
            "Generating summary for Paper ID: 171\n",
            "Processed Paper ID: 171\n",
            "Generating summary for Paper ID: 172\n",
            "Processed Paper ID: 172\n",
            "Generating summary for Paper ID: 173\n",
            "Processed Paper ID: 173\n",
            "Generating summary for Paper ID: 174\n",
            "Processed Paper ID: 174\n",
            "Generating summary for Paper ID: 175\n",
            "Processed Paper ID: 175\n",
            "Generating summary for Paper ID: 176\n",
            "Processed Paper ID: 176\n",
            "Generating summary for Paper ID: 177\n",
            "Processed Paper ID: 177\n",
            "Generating summary for Paper ID: 178\n",
            "Processed Paper ID: 178\n",
            "Generating summary for Paper ID: 179\n",
            "Processed Paper ID: 179\n",
            "Generating summary for Paper ID: 180\n",
            "Processed Paper ID: 180\n",
            "Generating summary for Paper ID: 181\n",
            "Processed Paper ID: 181\n",
            "Generating summary for Paper ID: 182\n",
            "Processed Paper ID: 182\n",
            "Generating summary for Paper ID: 183\n",
            "Processed Paper ID: 183\n",
            "Generating summary for Paper ID: 184\n",
            "Processed Paper ID: 184\n",
            "Generating summary for Paper ID: 185\n",
            "Processed Paper ID: 185\n",
            "Generating summary for Paper ID: 186\n"
          ]
        },
        {
          "name": "stderr",
          "output_type": "stream",
          "text": [
            "Your max_length is set to 300, but your input_length is only 285. Since this is a summarization task, where outputs shorter than the input are typically wanted, you might consider decreasing max_length manually, e.g. summarizer('...', max_length=142)\n"
          ]
        },
        {
          "name": "stdout",
          "output_type": "stream",
          "text": [
            "Processed Paper ID: 186\n",
            "Generating summary for Paper ID: 187\n",
            "Processed Paper ID: 187\n",
            "Generating summary for Paper ID: 188\n",
            "Processed Paper ID: 188\n",
            "Generating summary for Paper ID: 189\n",
            "Processed Paper ID: 189\n",
            "Generating summary for Paper ID: 190\n",
            "Processed Paper ID: 190\n",
            "Generating summary for Paper ID: 191\n",
            "Processed Paper ID: 191\n",
            "Generating summary for Paper ID: 192\n",
            "Processed Paper ID: 192\n",
            "Generating summary for Paper ID: 193\n",
            "Processed Paper ID: 193\n",
            "Generating summary for Paper ID: 194\n",
            "Processed Paper ID: 194\n",
            "Generating summary for Paper ID: 195\n",
            "Processed Paper ID: 195\n",
            "Generating summary for Paper ID: 196\n",
            "Processed Paper ID: 196\n",
            "Generating summary for Paper ID: 197\n",
            "Processed Paper ID: 197\n",
            "Generating summary for Paper ID: 198\n",
            "Processed Paper ID: 198\n",
            "Generating summary for Paper ID: 199\n",
            "Processed Paper ID: 199\n",
            "Generating summary for Paper ID: 200\n"
          ]
        },
        {
          "name": "stderr",
          "output_type": "stream",
          "text": [
            "Your max_length is set to 300, but your input_length is only 295. Since this is a summarization task, where outputs shorter than the input are typically wanted, you might consider decreasing max_length manually, e.g. summarizer('...', max_length=147)\n"
          ]
        },
        {
          "name": "stdout",
          "output_type": "stream",
          "text": [
            "Processed Paper ID: 200\n",
            "Generating summary for Paper ID: 201\n",
            "Processed Paper ID: 201\n",
            "Generating summary for Paper ID: 202\n",
            "Processed Paper ID: 202\n",
            "Generating summary for Paper ID: 203\n",
            "Processed Paper ID: 203\n",
            "Generating summary for Paper ID: 204\n",
            "Processed Paper ID: 204\n",
            "Generating summary for Paper ID: 205\n",
            "Processed Paper ID: 205\n",
            "Generating summary for Paper ID: 206\n",
            "Processed Paper ID: 206\n",
            "Generating summary for Paper ID: 207\n",
            "Processed Paper ID: 207\n",
            "Generating summary for Paper ID: 208\n",
            "Processed Paper ID: 208\n",
            "Generating summary for Paper ID: 209\n",
            "Processed Paper ID: 209\n",
            "Generating summary for Paper ID: 210\n",
            "Processed Paper ID: 210\n",
            "Generating summary for Paper ID: 211\n",
            "Processed Paper ID: 211\n",
            "Generating summary for Paper ID: 212\n",
            "Processed Paper ID: 212\n",
            "Generating summary for Paper ID: 213\n",
            "Processed Paper ID: 213\n",
            "Generating summary for Paper ID: 214\n",
            "Processed Paper ID: 214\n",
            "Generating summary for Paper ID: 215\n",
            "Processed Paper ID: 215\n",
            "Generating summary for Paper ID: 216\n",
            "Processed Paper ID: 216\n",
            "Generating summary for Paper ID: 217\n",
            "Processed Paper ID: 217\n",
            "Generating summary for Paper ID: 218\n",
            "Processed Paper ID: 218\n",
            "Generating summary for Paper ID: 219\n",
            "Processed Paper ID: 219\n",
            "Generating summary for Paper ID: 220\n"
          ]
        },
        {
          "name": "stderr",
          "output_type": "stream",
          "text": [
            "Your max_length is set to 300, but your input_length is only 240. Since this is a summarization task, where outputs shorter than the input are typically wanted, you might consider decreasing max_length manually, e.g. summarizer('...', max_length=120)\n"
          ]
        },
        {
          "name": "stdout",
          "output_type": "stream",
          "text": [
            "Processed Paper ID: 220\n",
            "Generating summary for Paper ID: 221\n",
            "Processed Paper ID: 221\n",
            "Generating summary for Paper ID: 222\n",
            "Processed Paper ID: 222\n",
            "Generating summary for Paper ID: 223\n",
            "Processed Paper ID: 223\n",
            "Generating summary for Paper ID: 224\n",
            "Processed Paper ID: 224\n",
            "Generating summary for Paper ID: 225\n",
            "Processed Paper ID: 225\n",
            "Generating summary for Paper ID: 226\n",
            "Processed Paper ID: 226\n",
            "Generating summary for Paper ID: 227\n",
            "Processed Paper ID: 227\n",
            "Generating summary for Paper ID: 228\n",
            "Processed Paper ID: 228\n",
            "Generating summary for Paper ID: 229\n",
            "Processed Paper ID: 229\n",
            "Generating summary for Paper ID: 230\n",
            "Processed Paper ID: 230\n",
            "Generating summary for Paper ID: 231\n",
            "Processed Paper ID: 231\n",
            "Generating summary for Paper ID: 232\n",
            "Processed Paper ID: 232\n",
            "Generating summary for Paper ID: 233\n",
            "Processed Paper ID: 233\n",
            "Generating summary for Paper ID: 234\n",
            "Processed Paper ID: 234\n",
            "Generating summary for Paper ID: 235\n",
            "Processed Paper ID: 235\n",
            "Generating summary for Paper ID: 236\n",
            "Processed Paper ID: 236\n",
            "Generating summary for Paper ID: 237\n",
            "Processed Paper ID: 237\n",
            "Generating summary for Paper ID: 238\n",
            "Processed Paper ID: 238\n",
            "Generating summary for Paper ID: 239\n",
            "Processed Paper ID: 239\n",
            "Generating summary for Paper ID: 240\n",
            "Processed Paper ID: 240\n",
            "Generating summary for Paper ID: 241\n",
            "Processed Paper ID: 241\n",
            "Generating summary for Paper ID: 242\n",
            "Processed Paper ID: 242\n",
            "Generating summary for Paper ID: 243\n"
          ]
        },
        {
          "name": "stderr",
          "output_type": "stream",
          "text": [
            "Your max_length is set to 300, but your input_length is only 274. Since this is a summarization task, where outputs shorter than the input are typically wanted, you might consider decreasing max_length manually, e.g. summarizer('...', max_length=137)\n"
          ]
        },
        {
          "name": "stdout",
          "output_type": "stream",
          "text": [
            "Processed Paper ID: 243\n",
            "Generating summary for Paper ID: 244\n",
            "Processed Paper ID: 244\n",
            "Generating summary for Paper ID: 245\n",
            "Processed Paper ID: 245\n",
            "Generating summary for Paper ID: 246\n",
            "Processed Paper ID: 246\n",
            "Generating summary for Paper ID: 247\n",
            "Processed Paper ID: 247\n",
            "Generating summary for Paper ID: 248\n",
            "Processed Paper ID: 248\n",
            "Generating summary for Paper ID: 249\n",
            "Processed Paper ID: 249\n",
            "Generating summary for Paper ID: 250\n",
            "Processed Paper ID: 250\n",
            "Generating summary for Paper ID: 251\n",
            "Processed Paper ID: 251\n",
            "Generating summary for Paper ID: 252\n",
            "Processed Paper ID: 252\n",
            "Generating summary for Paper ID: 253\n",
            "Processed Paper ID: 253\n",
            "Generating summary for Paper ID: 254\n",
            "Processed Paper ID: 254\n",
            "Generating summary for Paper ID: 255\n",
            "Processed Paper ID: 255\n",
            "Generating summary for Paper ID: 256\n",
            "Processed Paper ID: 256\n",
            "Generating summary for Paper ID: 257\n",
            "Processed Paper ID: 257\n",
            "Generating summary for Paper ID: 258\n",
            "Processed Paper ID: 258\n",
            "Generating summary for Paper ID: 259\n",
            "Processed Paper ID: 259\n",
            "Generating summary for Paper ID: 260\n",
            "Processed Paper ID: 260\n",
            "Generating summary for Paper ID: 261\n",
            "Processed Paper ID: 261\n",
            "Generating summary for Paper ID: 262\n",
            "Processed Paper ID: 262\n",
            "Generating summary for Paper ID: 263\n",
            "Processed Paper ID: 263\n",
            "Generating summary for Paper ID: 264\n",
            "Processed Paper ID: 264\n",
            "Generating summary for Paper ID: 265\n",
            "Processed Paper ID: 265\n",
            "Generating summary for Paper ID: 266\n",
            "Processed Paper ID: 266\n",
            "Generating summary for Paper ID: 267\n",
            "Processed Paper ID: 267\n",
            "Generating summary for Paper ID: 268\n",
            "Processed Paper ID: 268\n",
            "Generating summary for Paper ID: 269\n",
            "Processed Paper ID: 269\n",
            "Generating summary for Paper ID: 270\n",
            "Processed Paper ID: 270\n",
            "Generating summary for Paper ID: 271\n",
            "Processed Paper ID: 271\n",
            "Generating summary for Paper ID: 272\n",
            "Processed Paper ID: 272\n",
            "Generating summary for Paper ID: 273\n",
            "Processed Paper ID: 273\n",
            "Generating summary for Paper ID: 274\n",
            "Processed Paper ID: 274\n",
            "Generating summary for Paper ID: 275\n",
            "Processed Paper ID: 275\n",
            "Generating summary for Paper ID: 276\n",
            "Processed Paper ID: 276\n",
            "Generating summary for Paper ID: 277\n",
            "Processed Paper ID: 277\n",
            "Generating summary for Paper ID: 278\n",
            "Processed Paper ID: 278\n",
            "Generating summary for Paper ID: 279\n",
            "Processed Paper ID: 279\n",
            "Generating summary for Paper ID: 280\n",
            "Processed Paper ID: 280\n",
            "Generating summary for Paper ID: 281\n",
            "Processed Paper ID: 281\n",
            "Generating summary for Paper ID: 282\n",
            "Processed Paper ID: 282\n",
            "Generating summary for Paper ID: 283\n",
            "Processed Paper ID: 283\n",
            "Generating summary for Paper ID: 284\n",
            "Processed Paper ID: 284\n",
            "Generating summary for Paper ID: 285\n",
            "Processed Paper ID: 285\n",
            "Generating summary for Paper ID: 286\n",
            "Processed Paper ID: 286\n",
            "Generating summary for Paper ID: 287\n",
            "Processed Paper ID: 287\n",
            "Generating summary for Paper ID: 288\n",
            "Processed Paper ID: 288\n",
            "Generating summary for Paper ID: 289\n",
            "Processed Paper ID: 289\n",
            "Generating summary for Paper ID: 290\n",
            "Processed Paper ID: 290\n",
            "Generating summary for Paper ID: 291\n"
          ]
        },
        {
          "name": "stderr",
          "output_type": "stream",
          "text": [
            "Your max_length is set to 300, but your input_length is only 251. Since this is a summarization task, where outputs shorter than the input are typically wanted, you might consider decreasing max_length manually, e.g. summarizer('...', max_length=125)\n"
          ]
        },
        {
          "name": "stdout",
          "output_type": "stream",
          "text": [
            "Processed Paper ID: 291\n",
            "Generating summary for Paper ID: 292\n",
            "Processed Paper ID: 292\n",
            "Generating summary for Paper ID: 293\n",
            "Processed Paper ID: 293\n",
            "Generating summary for Paper ID: 294\n",
            "Processed Paper ID: 294\n",
            "Generating summary for Paper ID: 295\n"
          ]
        },
        {
          "name": "stderr",
          "output_type": "stream",
          "text": [
            "Your max_length is set to 300, but your input_length is only 291. Since this is a summarization task, where outputs shorter than the input are typically wanted, you might consider decreasing max_length manually, e.g. summarizer('...', max_length=145)\n"
          ]
        },
        {
          "name": "stdout",
          "output_type": "stream",
          "text": [
            "Processed Paper ID: 295\n",
            "Generating summary for Paper ID: 296\n",
            "Processed Paper ID: 296\n",
            "Generating summary for Paper ID: 297\n",
            "Processed Paper ID: 297\n",
            "Generating summary for Paper ID: 298\n",
            "Processed Paper ID: 298\n",
            "Generating summary for Paper ID: 299\n",
            "Processed Paper ID: 299\n",
            "Generating summary for Paper ID: 300\n",
            "Processed Paper ID: 300\n",
            "Generating summary for Paper ID: 301\n",
            "Processed Paper ID: 301\n",
            "Generating summary for Paper ID: 302\n"
          ]
        },
        {
          "name": "stderr",
          "output_type": "stream",
          "text": [
            "Your max_length is set to 300, but your input_length is only 296. Since this is a summarization task, where outputs shorter than the input are typically wanted, you might consider decreasing max_length manually, e.g. summarizer('...', max_length=148)\n"
          ]
        },
        {
          "name": "stdout",
          "output_type": "stream",
          "text": [
            "Processed Paper ID: 302\n",
            "Generating summary for Paper ID: 303\n",
            "Processed Paper ID: 303\n",
            "Generating summary for Paper ID: 304\n",
            "Processed Paper ID: 304\n",
            "Generating summary for Paper ID: 305\n",
            "Processed Paper ID: 305\n",
            "Generating summary for Paper ID: 306\n",
            "Processed Paper ID: 306\n",
            "Generating summary for Paper ID: 307\n",
            "Processed Paper ID: 307\n",
            "Generating summary for Paper ID: 308\n",
            "Processed Paper ID: 308\n",
            "Generating summary for Paper ID: 309\n",
            "Processed Paper ID: 309\n",
            "Generating summary for Paper ID: 310\n",
            "Processed Paper ID: 310\n",
            "Generating summary for Paper ID: 311\n",
            "Processed Paper ID: 311\n",
            "Generating summary for Paper ID: 312\n",
            "Processed Paper ID: 312\n",
            "Generating summary for Paper ID: 313\n",
            "Processed Paper ID: 313\n",
            "Generating summary for Paper ID: 314\n",
            "Processed Paper ID: 314\n",
            "Generating summary for Paper ID: 315\n",
            "Processed Paper ID: 315\n",
            "Generating summary for Paper ID: 316\n",
            "Processed Paper ID: 316\n",
            "Generating summary for Paper ID: 317\n",
            "Processed Paper ID: 317\n",
            "Generating summary for Paper ID: 318\n",
            "Processed Paper ID: 318\n",
            "Generating summary for Paper ID: 319\n",
            "Processed Paper ID: 319\n",
            "Generating summary for Paper ID: 320\n",
            "Processed Paper ID: 320\n",
            "Generating summary for Paper ID: 321\n",
            "Processed Paper ID: 321\n",
            "Generating summary for Paper ID: 322\n",
            "Processed Paper ID: 322\n",
            "Generating summary for Paper ID: 323\n",
            "Processed Paper ID: 323\n",
            "Generating summary for Paper ID: 324\n",
            "Processed Paper ID: 324\n",
            "Generating summary for Paper ID: 325\n",
            "Processed Paper ID: 325\n",
            "Generating summary for Paper ID: 326\n",
            "Processed Paper ID: 326\n",
            "Generating summary for Paper ID: 327\n",
            "Processed Paper ID: 327\n",
            "Generating summary for Paper ID: 328\n",
            "Processed Paper ID: 328\n",
            "Generating summary for Paper ID: 329\n",
            "Processed Paper ID: 329\n",
            "Generating summary for Paper ID: 330\n",
            "Processed Paper ID: 330\n",
            "Generating summary for Paper ID: 331\n",
            "Processed Paper ID: 331\n",
            "Generating summary for Paper ID: 332\n",
            "Processed Paper ID: 332\n",
            "Generating summary for Paper ID: 333\n",
            "Processed Paper ID: 333\n",
            "Generating summary for Paper ID: 334\n",
            "Processed Paper ID: 334\n",
            "Generating summary for Paper ID: 335\n",
            "Processed Paper ID: 335\n",
            "Generating summary for Paper ID: 336\n",
            "Processed Paper ID: 336\n",
            "Generating summary for Paper ID: 337\n",
            "Processed Paper ID: 337\n",
            "Generating summary for Paper ID: 338\n",
            "Processed Paper ID: 338\n",
            "Generating summary for Paper ID: 339\n",
            "Processed Paper ID: 339\n",
            "Generating summary for Paper ID: 340\n",
            "Processed Paper ID: 340\n",
            "Generating summary for Paper ID: 341\n",
            "Processed Paper ID: 341\n",
            "Generating summary for Paper ID: 342\n",
            "Processed Paper ID: 342\n",
            "Generating summary for Paper ID: 343\n",
            "Processed Paper ID: 343\n",
            "Generating summary for Paper ID: 344\n"
          ]
        },
        {
          "name": "stderr",
          "output_type": "stream",
          "text": [
            "Your max_length is set to 300, but your input_length is only 232. Since this is a summarization task, where outputs shorter than the input are typically wanted, you might consider decreasing max_length manually, e.g. summarizer('...', max_length=116)\n"
          ]
        },
        {
          "name": "stdout",
          "output_type": "stream",
          "text": [
            "Processed Paper ID: 344\n",
            "Generating summary for Paper ID: 345\n",
            "Processed Paper ID: 345\n",
            "Generating summary for Paper ID: 346\n",
            "Processed Paper ID: 346\n",
            "Generating summary for Paper ID: 347\n"
          ]
        },
        {
          "name": "stderr",
          "output_type": "stream",
          "text": [
            "Your max_length is set to 300, but your input_length is only 237. Since this is a summarization task, where outputs shorter than the input are typically wanted, you might consider decreasing max_length manually, e.g. summarizer('...', max_length=118)\n"
          ]
        },
        {
          "name": "stdout",
          "output_type": "stream",
          "text": [
            "Processed Paper ID: 347\n",
            "Generating summary for Paper ID: 348\n"
          ]
        },
        {
          "name": "stderr",
          "output_type": "stream",
          "text": [
            "Your max_length is set to 300, but your input_length is only 215. Since this is a summarization task, where outputs shorter than the input are typically wanted, you might consider decreasing max_length manually, e.g. summarizer('...', max_length=107)\n"
          ]
        },
        {
          "name": "stdout",
          "output_type": "stream",
          "text": [
            "Processed Paper ID: 348\n",
            "Generating summary for Paper ID: 349\n",
            "Processed Paper ID: 349\n",
            "Generating summary for Paper ID: 350\n",
            "Processed Paper ID: 350\n",
            "Generating summary for Paper ID: 351\n",
            "Processed Paper ID: 351\n",
            "Generating summary for Paper ID: 352\n",
            "Processed Paper ID: 352\n",
            "Generating summary for Paper ID: 353\n",
            "Processed Paper ID: 353\n",
            "Generating summary for Paper ID: 354\n",
            "Processed Paper ID: 354\n",
            "Generating summary for Paper ID: 355\n",
            "Processed Paper ID: 355\n",
            "Generating summary for Paper ID: 356\n",
            "Processed Paper ID: 356\n",
            "Generating summary for Paper ID: 357\n",
            "Processed Paper ID: 357\n",
            "Generating summary for Paper ID: 358\n",
            "Processed Paper ID: 358\n",
            "Generating summary for Paper ID: 359\n",
            "Processed Paper ID: 359\n",
            "Generating summary for Paper ID: 360\n",
            "Processed Paper ID: 360\n",
            "Generating summary for Paper ID: 361\n",
            "Processed Paper ID: 361\n",
            "Generating summary for Paper ID: 362\n",
            "Processed Paper ID: 362\n",
            "Generating summary for Paper ID: 363\n",
            "Processed Paper ID: 363\n",
            "Generating summary for Paper ID: 364\n",
            "Processed Paper ID: 364\n",
            "Generating summary for Paper ID: 365\n",
            "Processed Paper ID: 365\n",
            "Generating summary for Paper ID: 366\n",
            "Processed Paper ID: 366\n",
            "Generating summary for Paper ID: 367\n",
            "Processed Paper ID: 367\n",
            "Generating summary for Paper ID: 368\n",
            "Processed Paper ID: 368\n",
            "Generating summary for Paper ID: 369\n",
            "Processed Paper ID: 369\n",
            "Generating summary for Paper ID: 370\n",
            "Processed Paper ID: 370\n",
            "Generating summary for Paper ID: 371\n",
            "Processed Paper ID: 371\n"
          ]
        }
      ],
      "source": [
        "results = []\n",
        "\n",
        "print(\"Processing documents and evaluating...\")\n",
        "for _, row in df.iterrows():\n",
        "    paper_id = row['Paper Id']\n",
        "    document = row['Document']\n",
        "    reference_summary = row['Summary']\n",
        "\n",
        "    try:\n",
        "        print(f\"Generating summary for Paper ID: {paper_id}\")\n",
        "        generated_summary = summarizer(document, max_length=300, min_length=90, do_sample=False)\n",
        "        generated_summary_text = generated_summary[0]['summary_text']\n",
        "\n",
        "        rouge_scores = calculate_rouge(reference_summary, generated_summary_text)\n",
        "        bleu_score = calculate_bleu(reference_summary, generated_summary_text)\n",
        "\n",
        "        results.append({\n",
        "            'Paper_Id': paper_id,\n",
        "            'Reference_Summary': reference_summary,\n",
        "            'Generated_Summary': generated_summary_text,\n",
        "            'ROUGE-1': rouge_scores['rouge1'],\n",
        "            'ROUGE-2': rouge_scores['rouge2'],\n",
        "            'ROUGE-L': rouge_scores['rougeL'],\n",
        "            'BLEU': bleu_score\n",
        "        })\n",
        "\n",
        "        print(f\"Processed Paper ID: {paper_id}\")\n",
        "    except Exception as e:\n",
        "        print(f\"Error processing Paper ID {paper_id}: {str(e)}\")\n",
        "\n"
      ]
    },
    {
      "cell_type": "code",
      "execution_count": null,
      "metadata": {
        "id": "07wl9mzoBt_6",
        "outputId": "bd2d1eef-ce6e-42f7-9316-cf5549084918"
      },
      "outputs": [
        {
          "name": "stdout",
          "output_type": "stream",
          "text": [
            "\n",
            "Summary Statistics:\n",
            "Average ROUGE-1: 46.2173\n",
            "Average ROUGE-2: 21.4349\n",
            "Average ROUGE-L: 29.5130\n",
            "Average BLEU: 12.3004\n",
            "\n",
            "Detailed Results:\n",
            "     Paper_Id    ROUGE-1    ROUGE-2    ROUGE-L       BLEU\n",
            "0           1  61.635220  24.203822  32.704403  15.710743\n",
            "1           2  37.777778   5.617978  23.333333   2.222723\n",
            "2           3  48.000000  22.972973  36.000000  14.858638\n",
            "3           4  50.370370  24.060150  34.074074   9.384487\n",
            "4           5  50.322581  22.222222  29.677419  10.218584\n",
            "..        ...        ...        ...        ...        ...\n",
            "366       367  44.615385  14.062500  29.230769   9.388698\n",
            "367       368  45.962733  12.578616  26.086957   3.218976\n",
            "368       369  46.575342  12.500000  30.136986   7.834416\n",
            "369       370  44.970414  11.976048  20.118343   2.474897\n",
            "370       371  50.000000  20.253165  35.000000  18.891116\n",
            "\n",
            "[371 rows x 5 columns]\n",
            "\n",
            "Results saved to 'summarization_evaluation_results.csv'\n"
          ]
        }
      ],
      "source": [
        "results_df = pd.DataFrame(results)\n",
        "\n",
        "# Multiply the scores by 100 to scale them to 0-100 from 0-1\n",
        "results_df['ROUGE-1'] = results_df['ROUGE-1'] * 100\n",
        "results_df['ROUGE-2'] = results_df['ROUGE-2'] * 100\n",
        "results_df['ROUGE-L'] = results_df['ROUGE-L'] * 100\n",
        "results_df['BLEU'] = results_df['BLEU'] * 100\n",
        "\n",
        "avg_scores = {\n",
        "    'ROUGE-1': results_df['ROUGE-1'].mean(),\n",
        "    'ROUGE-2': results_df['ROUGE-2'].mean(),\n",
        "    'ROUGE-L': results_df['ROUGE-L'].mean(),\n",
        "    'BLEU': results_df['BLEU'].mean()\n",
        "}\n",
        "\n",
        "print(\"\\nSummary Statistics:\")\n",
        "for metric, score in avg_scores.items():\n",
        "    print(f\"Average {metric}: {score:.4f}\")\n",
        "\n",
        "\n",
        "print(\"\\nDetailed Results:\")\n",
        "print(results_df[['Paper_Id', 'ROUGE-1', 'ROUGE-2', 'ROUGE-L', 'BLEU']])\n",
        "\n",
        "results_df.to_csv('CompScholar_summarization_evaluation_results.csv', index=False)\n",
        "print(\"\\nResults saved to 'CompScholar_summarization_evaluation_results.csv'\")"
      ]
    }
  ],
  "metadata": {
    "colab": {
      "provenance": []
    },
    "kernelspec": {
      "display_name": "Python 3",
      "name": "python3"
    },
    "language_info": {
      "name": "python"
    }
  },
  "nbformat": 4,
  "nbformat_minor": 0
}